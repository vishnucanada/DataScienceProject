{
  "cells": [
    {
      "cell_type": "markdown",
      "metadata": {
        "id": "view-in-github",
        "colab_type": "text"
      },
      "source": [
        "<a href=\"https://colab.research.google.com/github/vishnucanada/DataScienceProject/blob/main/process_airplane_delay_file.ipynb\" target=\"_parent\"><img src=\"https://colab.research.google.com/assets/colab-badge.svg\" alt=\"Open In Colab\"/></a>"
      ]
    },
    {
      "cell_type": "markdown",
      "source": [
        "# This Notebook will pre process data by combining likewise features, and removing irrelevant features, and then will map the data\n"
      ],
      "metadata": {
        "id": "qYpKQUN8YaUy"
      }
    },
    {
      "cell_type": "markdown",
      "source": [
        "Imports Required\n"
      ],
      "metadata": {
        "id": "QzgGoSxvYVtN"
      }
    },
    {
      "cell_type": "code",
      "execution_count": 79,
      "metadata": {
        "id": "eK3D7Q_zX96f"
      },
      "outputs": [],
      "source": [
        "import pandas as pd\n",
        "import pandas as pd\n",
        "import seaborn as sns\n",
        "import matplotlib.pyplot as plt\n",
        "from datetime import datetime\n",
        "from google.colab import drive\n",
        "from sklearn.linear_model import LinearRegression\n"
      ]
    },
    {
      "cell_type": "code",
      "source": [
        "pd.set_option('display.float_format', lambda x: '%.0f' % x)\n"
      ],
      "metadata": {
        "id": "bQefAm9pGB68"
      },
      "execution_count": 69,
      "outputs": []
    },
    {
      "cell_type": "code",
      "source": [
        "drive.mount('/content/drive')"
      ],
      "metadata": {
        "colab": {
          "base_uri": "https://localhost:8080/"
        },
        "id": "czcajeiEYMGf",
        "outputId": "bc2c2b0f-9004-4435-845d-bf13262a3495"
      },
      "execution_count": 2,
      "outputs": [
        {
          "output_type": "stream",
          "name": "stdout",
          "text": [
            "Mounted at /content/drive\n"
          ]
        }
      ]
    },
    {
      "cell_type": "code",
      "execution_count": 3,
      "metadata": {
        "id": "KzdrAp31X96h"
      },
      "outputs": [],
      "source": [
        "temp_df = pd.read_csv('/content/drive/MyDrive/data/raw/DelayedFlights.csv')"
      ]
    },
    {
      "cell_type": "code",
      "execution_count": 4,
      "metadata": {
        "id": "ozZWwmj7X96h"
      },
      "outputs": [],
      "source": [
        "df_delays = temp_df.copy()\n"
      ]
    },
    {
      "cell_type": "code",
      "execution_count": 5,
      "metadata": {
        "colab": {
          "base_uri": "https://localhost:8080/",
          "height": 273
        },
        "id": "yUaCOZ5EX96h",
        "outputId": "65a7d5d6-66e9-47b7-9762-012aea098f59"
      },
      "outputs": [
        {
          "output_type": "execute_result",
          "data": {
            "text/plain": [
              "   Unnamed: 0  Year  Month  DayofMonth  DayOfWeek  DepTime  CRSDepTime  \\\n",
              "0           0  2008      1           3          4   2003.0        1955   \n",
              "1           1  2008      1           3          4    754.0         735   \n",
              "2           2  2008      1           3          4    628.0         620   \n",
              "3           4  2008      1           3          4   1829.0        1755   \n",
              "4           5  2008      1           3          4   1940.0        1915   \n",
              "\n",
              "   ArrTime  CRSArrTime UniqueCarrier  ...  TaxiIn TaxiOut  Cancelled  \\\n",
              "0   2211.0        2225            WN  ...     4.0     8.0          0   \n",
              "1   1002.0        1000            WN  ...     5.0    10.0          0   \n",
              "2    804.0         750            WN  ...     3.0    17.0          0   \n",
              "3   1959.0        1925            WN  ...     3.0    10.0          0   \n",
              "4   2121.0        2110            WN  ...     4.0    10.0          0   \n",
              "\n",
              "   CancellationCode  Diverted  CarrierDelay  WeatherDelay NASDelay  \\\n",
              "0                 N         0           NaN           NaN      NaN   \n",
              "1                 N         0           NaN           NaN      NaN   \n",
              "2                 N         0           NaN           NaN      NaN   \n",
              "3                 N         0           2.0           0.0      0.0   \n",
              "4                 N         0           NaN           NaN      NaN   \n",
              "\n",
              "  SecurityDelay  LateAircraftDelay  \n",
              "0           NaN                NaN  \n",
              "1           NaN                NaN  \n",
              "2           NaN                NaN  \n",
              "3           0.0               32.0  \n",
              "4           NaN                NaN  \n",
              "\n",
              "[5 rows x 30 columns]"
            ],
            "text/html": [
              "\n",
              "  <div id=\"df-1993c7d2-8dcc-4659-910b-b9eb23c23a29\" class=\"colab-df-container\">\n",
              "    <div>\n",
              "<style scoped>\n",
              "    .dataframe tbody tr th:only-of-type {\n",
              "        vertical-align: middle;\n",
              "    }\n",
              "\n",
              "    .dataframe tbody tr th {\n",
              "        vertical-align: top;\n",
              "    }\n",
              "\n",
              "    .dataframe thead th {\n",
              "        text-align: right;\n",
              "    }\n",
              "</style>\n",
              "<table border=\"1\" class=\"dataframe\">\n",
              "  <thead>\n",
              "    <tr style=\"text-align: right;\">\n",
              "      <th></th>\n",
              "      <th>Unnamed: 0</th>\n",
              "      <th>Year</th>\n",
              "      <th>Month</th>\n",
              "      <th>DayofMonth</th>\n",
              "      <th>DayOfWeek</th>\n",
              "      <th>DepTime</th>\n",
              "      <th>CRSDepTime</th>\n",
              "      <th>ArrTime</th>\n",
              "      <th>CRSArrTime</th>\n",
              "      <th>UniqueCarrier</th>\n",
              "      <th>...</th>\n",
              "      <th>TaxiIn</th>\n",
              "      <th>TaxiOut</th>\n",
              "      <th>Cancelled</th>\n",
              "      <th>CancellationCode</th>\n",
              "      <th>Diverted</th>\n",
              "      <th>CarrierDelay</th>\n",
              "      <th>WeatherDelay</th>\n",
              "      <th>NASDelay</th>\n",
              "      <th>SecurityDelay</th>\n",
              "      <th>LateAircraftDelay</th>\n",
              "    </tr>\n",
              "  </thead>\n",
              "  <tbody>\n",
              "    <tr>\n",
              "      <th>0</th>\n",
              "      <td>0</td>\n",
              "      <td>2008</td>\n",
              "      <td>1</td>\n",
              "      <td>3</td>\n",
              "      <td>4</td>\n",
              "      <td>2003.0</td>\n",
              "      <td>1955</td>\n",
              "      <td>2211.0</td>\n",
              "      <td>2225</td>\n",
              "      <td>WN</td>\n",
              "      <td>...</td>\n",
              "      <td>4.0</td>\n",
              "      <td>8.0</td>\n",
              "      <td>0</td>\n",
              "      <td>N</td>\n",
              "      <td>0</td>\n",
              "      <td>NaN</td>\n",
              "      <td>NaN</td>\n",
              "      <td>NaN</td>\n",
              "      <td>NaN</td>\n",
              "      <td>NaN</td>\n",
              "    </tr>\n",
              "    <tr>\n",
              "      <th>1</th>\n",
              "      <td>1</td>\n",
              "      <td>2008</td>\n",
              "      <td>1</td>\n",
              "      <td>3</td>\n",
              "      <td>4</td>\n",
              "      <td>754.0</td>\n",
              "      <td>735</td>\n",
              "      <td>1002.0</td>\n",
              "      <td>1000</td>\n",
              "      <td>WN</td>\n",
              "      <td>...</td>\n",
              "      <td>5.0</td>\n",
              "      <td>10.0</td>\n",
              "      <td>0</td>\n",
              "      <td>N</td>\n",
              "      <td>0</td>\n",
              "      <td>NaN</td>\n",
              "      <td>NaN</td>\n",
              "      <td>NaN</td>\n",
              "      <td>NaN</td>\n",
              "      <td>NaN</td>\n",
              "    </tr>\n",
              "    <tr>\n",
              "      <th>2</th>\n",
              "      <td>2</td>\n",
              "      <td>2008</td>\n",
              "      <td>1</td>\n",
              "      <td>3</td>\n",
              "      <td>4</td>\n",
              "      <td>628.0</td>\n",
              "      <td>620</td>\n",
              "      <td>804.0</td>\n",
              "      <td>750</td>\n",
              "      <td>WN</td>\n",
              "      <td>...</td>\n",
              "      <td>3.0</td>\n",
              "      <td>17.0</td>\n",
              "      <td>0</td>\n",
              "      <td>N</td>\n",
              "      <td>0</td>\n",
              "      <td>NaN</td>\n",
              "      <td>NaN</td>\n",
              "      <td>NaN</td>\n",
              "      <td>NaN</td>\n",
              "      <td>NaN</td>\n",
              "    </tr>\n",
              "    <tr>\n",
              "      <th>3</th>\n",
              "      <td>4</td>\n",
              "      <td>2008</td>\n",
              "      <td>1</td>\n",
              "      <td>3</td>\n",
              "      <td>4</td>\n",
              "      <td>1829.0</td>\n",
              "      <td>1755</td>\n",
              "      <td>1959.0</td>\n",
              "      <td>1925</td>\n",
              "      <td>WN</td>\n",
              "      <td>...</td>\n",
              "      <td>3.0</td>\n",
              "      <td>10.0</td>\n",
              "      <td>0</td>\n",
              "      <td>N</td>\n",
              "      <td>0</td>\n",
              "      <td>2.0</td>\n",
              "      <td>0.0</td>\n",
              "      <td>0.0</td>\n",
              "      <td>0.0</td>\n",
              "      <td>32.0</td>\n",
              "    </tr>\n",
              "    <tr>\n",
              "      <th>4</th>\n",
              "      <td>5</td>\n",
              "      <td>2008</td>\n",
              "      <td>1</td>\n",
              "      <td>3</td>\n",
              "      <td>4</td>\n",
              "      <td>1940.0</td>\n",
              "      <td>1915</td>\n",
              "      <td>2121.0</td>\n",
              "      <td>2110</td>\n",
              "      <td>WN</td>\n",
              "      <td>...</td>\n",
              "      <td>4.0</td>\n",
              "      <td>10.0</td>\n",
              "      <td>0</td>\n",
              "      <td>N</td>\n",
              "      <td>0</td>\n",
              "      <td>NaN</td>\n",
              "      <td>NaN</td>\n",
              "      <td>NaN</td>\n",
              "      <td>NaN</td>\n",
              "      <td>NaN</td>\n",
              "    </tr>\n",
              "  </tbody>\n",
              "</table>\n",
              "<p>5 rows × 30 columns</p>\n",
              "</div>\n",
              "    <div class=\"colab-df-buttons\">\n",
              "\n",
              "  <div class=\"colab-df-container\">\n",
              "    <button class=\"colab-df-convert\" onclick=\"convertToInteractive('df-1993c7d2-8dcc-4659-910b-b9eb23c23a29')\"\n",
              "            title=\"Convert this dataframe to an interactive table.\"\n",
              "            style=\"display:none;\">\n",
              "\n",
              "  <svg xmlns=\"http://www.w3.org/2000/svg\" height=\"24px\" viewBox=\"0 -960 960 960\">\n",
              "    <path d=\"M120-120v-720h720v720H120Zm60-500h600v-160H180v160Zm220 220h160v-160H400v160Zm0 220h160v-160H400v160ZM180-400h160v-160H180v160Zm440 0h160v-160H620v160ZM180-180h160v-160H180v160Zm440 0h160v-160H620v160Z\"/>\n",
              "  </svg>\n",
              "    </button>\n",
              "\n",
              "  <style>\n",
              "    .colab-df-container {\n",
              "      display:flex;\n",
              "      gap: 12px;\n",
              "    }\n",
              "\n",
              "    .colab-df-convert {\n",
              "      background-color: #E8F0FE;\n",
              "      border: none;\n",
              "      border-radius: 50%;\n",
              "      cursor: pointer;\n",
              "      display: none;\n",
              "      fill: #1967D2;\n",
              "      height: 32px;\n",
              "      padding: 0 0 0 0;\n",
              "      width: 32px;\n",
              "    }\n",
              "\n",
              "    .colab-df-convert:hover {\n",
              "      background-color: #E2EBFA;\n",
              "      box-shadow: 0px 1px 2px rgba(60, 64, 67, 0.3), 0px 1px 3px 1px rgba(60, 64, 67, 0.15);\n",
              "      fill: #174EA6;\n",
              "    }\n",
              "\n",
              "    .colab-df-buttons div {\n",
              "      margin-bottom: 4px;\n",
              "    }\n",
              "\n",
              "    [theme=dark] .colab-df-convert {\n",
              "      background-color: #3B4455;\n",
              "      fill: #D2E3FC;\n",
              "    }\n",
              "\n",
              "    [theme=dark] .colab-df-convert:hover {\n",
              "      background-color: #434B5C;\n",
              "      box-shadow: 0px 1px 3px 1px rgba(0, 0, 0, 0.15);\n",
              "      filter: drop-shadow(0px 1px 2px rgba(0, 0, 0, 0.3));\n",
              "      fill: #FFFFFF;\n",
              "    }\n",
              "  </style>\n",
              "\n",
              "    <script>\n",
              "      const buttonEl =\n",
              "        document.querySelector('#df-1993c7d2-8dcc-4659-910b-b9eb23c23a29 button.colab-df-convert');\n",
              "      buttonEl.style.display =\n",
              "        google.colab.kernel.accessAllowed ? 'block' : 'none';\n",
              "\n",
              "      async function convertToInteractive(key) {\n",
              "        const element = document.querySelector('#df-1993c7d2-8dcc-4659-910b-b9eb23c23a29');\n",
              "        const dataTable =\n",
              "          await google.colab.kernel.invokeFunction('convertToInteractive',\n",
              "                                                    [key], {});\n",
              "        if (!dataTable) return;\n",
              "\n",
              "        const docLinkHtml = 'Like what you see? Visit the ' +\n",
              "          '<a target=\"_blank\" href=https://colab.research.google.com/notebooks/data_table.ipynb>data table notebook</a>'\n",
              "          + ' to learn more about interactive tables.';\n",
              "        element.innerHTML = '';\n",
              "        dataTable['output_type'] = 'display_data';\n",
              "        await google.colab.output.renderOutput(dataTable, element);\n",
              "        const docLink = document.createElement('div');\n",
              "        docLink.innerHTML = docLinkHtml;\n",
              "        element.appendChild(docLink);\n",
              "      }\n",
              "    </script>\n",
              "  </div>\n",
              "\n",
              "\n",
              "<div id=\"df-062dff7f-ac23-49cb-ab18-f0b51c20a7ac\">\n",
              "  <button class=\"colab-df-quickchart\" onclick=\"quickchart('df-062dff7f-ac23-49cb-ab18-f0b51c20a7ac')\"\n",
              "            title=\"Suggest charts\"\n",
              "            style=\"display:none;\">\n",
              "\n",
              "<svg xmlns=\"http://www.w3.org/2000/svg\" height=\"24px\"viewBox=\"0 0 24 24\"\n",
              "     width=\"24px\">\n",
              "    <g>\n",
              "        <path d=\"M19 3H5c-1.1 0-2 .9-2 2v14c0 1.1.9 2 2 2h14c1.1 0 2-.9 2-2V5c0-1.1-.9-2-2-2zM9 17H7v-7h2v7zm4 0h-2V7h2v10zm4 0h-2v-4h2v4z\"/>\n",
              "    </g>\n",
              "</svg>\n",
              "  </button>\n",
              "\n",
              "<style>\n",
              "  .colab-df-quickchart {\n",
              "      --bg-color: #E8F0FE;\n",
              "      --fill-color: #1967D2;\n",
              "      --hover-bg-color: #E2EBFA;\n",
              "      --hover-fill-color: #174EA6;\n",
              "      --disabled-fill-color: #AAA;\n",
              "      --disabled-bg-color: #DDD;\n",
              "  }\n",
              "\n",
              "  [theme=dark] .colab-df-quickchart {\n",
              "      --bg-color: #3B4455;\n",
              "      --fill-color: #D2E3FC;\n",
              "      --hover-bg-color: #434B5C;\n",
              "      --hover-fill-color: #FFFFFF;\n",
              "      --disabled-bg-color: #3B4455;\n",
              "      --disabled-fill-color: #666;\n",
              "  }\n",
              "\n",
              "  .colab-df-quickchart {\n",
              "    background-color: var(--bg-color);\n",
              "    border: none;\n",
              "    border-radius: 50%;\n",
              "    cursor: pointer;\n",
              "    display: none;\n",
              "    fill: var(--fill-color);\n",
              "    height: 32px;\n",
              "    padding: 0;\n",
              "    width: 32px;\n",
              "  }\n",
              "\n",
              "  .colab-df-quickchart:hover {\n",
              "    background-color: var(--hover-bg-color);\n",
              "    box-shadow: 0 1px 2px rgba(60, 64, 67, 0.3), 0 1px 3px 1px rgba(60, 64, 67, 0.15);\n",
              "    fill: var(--button-hover-fill-color);\n",
              "  }\n",
              "\n",
              "  .colab-df-quickchart-complete:disabled,\n",
              "  .colab-df-quickchart-complete:disabled:hover {\n",
              "    background-color: var(--disabled-bg-color);\n",
              "    fill: var(--disabled-fill-color);\n",
              "    box-shadow: none;\n",
              "  }\n",
              "\n",
              "  .colab-df-spinner {\n",
              "    border: 2px solid var(--fill-color);\n",
              "    border-color: transparent;\n",
              "    border-bottom-color: var(--fill-color);\n",
              "    animation:\n",
              "      spin 1s steps(1) infinite;\n",
              "  }\n",
              "\n",
              "  @keyframes spin {\n",
              "    0% {\n",
              "      border-color: transparent;\n",
              "      border-bottom-color: var(--fill-color);\n",
              "      border-left-color: var(--fill-color);\n",
              "    }\n",
              "    20% {\n",
              "      border-color: transparent;\n",
              "      border-left-color: var(--fill-color);\n",
              "      border-top-color: var(--fill-color);\n",
              "    }\n",
              "    30% {\n",
              "      border-color: transparent;\n",
              "      border-left-color: var(--fill-color);\n",
              "      border-top-color: var(--fill-color);\n",
              "      border-right-color: var(--fill-color);\n",
              "    }\n",
              "    40% {\n",
              "      border-color: transparent;\n",
              "      border-right-color: var(--fill-color);\n",
              "      border-top-color: var(--fill-color);\n",
              "    }\n",
              "    60% {\n",
              "      border-color: transparent;\n",
              "      border-right-color: var(--fill-color);\n",
              "    }\n",
              "    80% {\n",
              "      border-color: transparent;\n",
              "      border-right-color: var(--fill-color);\n",
              "      border-bottom-color: var(--fill-color);\n",
              "    }\n",
              "    90% {\n",
              "      border-color: transparent;\n",
              "      border-bottom-color: var(--fill-color);\n",
              "    }\n",
              "  }\n",
              "</style>\n",
              "\n",
              "  <script>\n",
              "    async function quickchart(key) {\n",
              "      const quickchartButtonEl =\n",
              "        document.querySelector('#' + key + ' button');\n",
              "      quickchartButtonEl.disabled = true;  // To prevent multiple clicks.\n",
              "      quickchartButtonEl.classList.add('colab-df-spinner');\n",
              "      try {\n",
              "        const charts = await google.colab.kernel.invokeFunction(\n",
              "            'suggestCharts', [key], {});\n",
              "      } catch (error) {\n",
              "        console.error('Error during call to suggestCharts:', error);\n",
              "      }\n",
              "      quickchartButtonEl.classList.remove('colab-df-spinner');\n",
              "      quickchartButtonEl.classList.add('colab-df-quickchart-complete');\n",
              "    }\n",
              "    (() => {\n",
              "      let quickchartButtonEl =\n",
              "        document.querySelector('#df-062dff7f-ac23-49cb-ab18-f0b51c20a7ac button');\n",
              "      quickchartButtonEl.style.display =\n",
              "        google.colab.kernel.accessAllowed ? 'block' : 'none';\n",
              "    })();\n",
              "  </script>\n",
              "</div>\n",
              "\n",
              "    </div>\n",
              "  </div>\n"
            ]
          },
          "metadata": {},
          "execution_count": 5
        }
      ],
      "source": [
        "df_delays.head(5)"
      ]
    },
    {
      "cell_type": "code",
      "source": [
        "df_delays.info()"
      ],
      "metadata": {
        "colab": {
          "base_uri": "https://localhost:8080/"
        },
        "id": "sfhkwMRNdh0Y",
        "outputId": "e296e2ae-a635-4abd-e01b-f63f3c0e5825"
      },
      "execution_count": 6,
      "outputs": [
        {
          "output_type": "stream",
          "name": "stdout",
          "text": [
            "<class 'pandas.core.frame.DataFrame'>\n",
            "RangeIndex: 1936758 entries, 0 to 1936757\n",
            "Data columns (total 30 columns):\n",
            " #   Column             Dtype  \n",
            "---  ------             -----  \n",
            " 0   Unnamed: 0         int64  \n",
            " 1   Year               int64  \n",
            " 2   Month              int64  \n",
            " 3   DayofMonth         int64  \n",
            " 4   DayOfWeek          int64  \n",
            " 5   DepTime            float64\n",
            " 6   CRSDepTime         int64  \n",
            " 7   ArrTime            float64\n",
            " 8   CRSArrTime         int64  \n",
            " 9   UniqueCarrier      object \n",
            " 10  FlightNum          int64  \n",
            " 11  TailNum            object \n",
            " 12  ActualElapsedTime  float64\n",
            " 13  CRSElapsedTime     float64\n",
            " 14  AirTime            float64\n",
            " 15  ArrDelay           float64\n",
            " 16  DepDelay           float64\n",
            " 17  Origin             object \n",
            " 18  Dest               object \n",
            " 19  Distance           int64  \n",
            " 20  TaxiIn             float64\n",
            " 21  TaxiOut            float64\n",
            " 22  Cancelled          int64  \n",
            " 23  CancellationCode   object \n",
            " 24  Diverted           int64  \n",
            " 25  CarrierDelay       float64\n",
            " 26  WeatherDelay       float64\n",
            " 27  NASDelay           float64\n",
            " 28  SecurityDelay      float64\n",
            " 29  LateAircraftDelay  float64\n",
            "dtypes: float64(14), int64(11), object(5)\n",
            "memory usage: 443.3+ MB\n"
          ]
        }
      ]
    },
    {
      "cell_type": "code",
      "execution_count": 7,
      "metadata": {
        "colab": {
          "base_uri": "https://localhost:8080/",
          "height": 350
        },
        "id": "vrLNClhdX96i",
        "outputId": "5a76250e-4f58-4f90-eec3-5e110634cd26"
      },
      "outputs": [
        {
          "output_type": "execute_result",
          "data": {
            "text/plain": [
              "         Unnamed: 0       Year         Month    DayofMonth     DayOfWeek  \\\n",
              "count  1.936758e+06  1936758.0  1.936758e+06  1.936758e+06  1.936758e+06   \n",
              "mean   3.341651e+06     2008.0  6.111106e+00  1.575347e+01  3.984827e+00   \n",
              "std    2.066065e+06        0.0  3.482546e+00  8.776272e+00  1.995966e+00   \n",
              "min    0.000000e+00     2008.0  1.000000e+00  1.000000e+00  1.000000e+00   \n",
              "25%    1.517452e+06     2008.0  3.000000e+00  8.000000e+00  2.000000e+00   \n",
              "50%    3.242558e+06     2008.0  6.000000e+00  1.600000e+01  4.000000e+00   \n",
              "75%    4.972467e+06     2008.0  9.000000e+00  2.300000e+01  6.000000e+00   \n",
              "max    7.009727e+06     2008.0  1.200000e+01  3.100000e+01  7.000000e+00   \n",
              "\n",
              "            DepTime    CRSDepTime       ArrTime    CRSArrTime     FlightNum  \\\n",
              "count  1.936758e+06  1.936758e+06  1.929648e+06  1.936758e+06  1.936758e+06   \n",
              "mean   1.518534e+03  1.467473e+03  1.610141e+03  1.634225e+03  2.184263e+03   \n",
              "std    4.504853e+02  4.247668e+02  5.481781e+02  4.646347e+02  1.944702e+03   \n",
              "min    1.000000e+00  0.000000e+00  1.000000e+00  0.000000e+00  1.000000e+00   \n",
              "25%    1.203000e+03  1.135000e+03  1.316000e+03  1.325000e+03  6.100000e+02   \n",
              "50%    1.545000e+03  1.510000e+03  1.715000e+03  1.705000e+03  1.543000e+03   \n",
              "75%    1.900000e+03  1.815000e+03  2.030000e+03  2.014000e+03  3.422000e+03   \n",
              "max    2.400000e+03  2.359000e+03  2.400000e+03  2.400000e+03  9.742000e+03   \n",
              "\n",
              "       ...      Distance        TaxiIn       TaxiOut     Cancelled  \\\n",
              "count  ...  1.936758e+06  1.929648e+06  1.936303e+06  1.936758e+06   \n",
              "mean   ...  7.656862e+02  6.812975e+00  1.823220e+01  3.268348e-04   \n",
              "std    ...  5.744797e+02  5.273595e+00  1.433853e+01  1.807562e-02   \n",
              "min    ...  1.100000e+01  0.000000e+00  0.000000e+00  0.000000e+00   \n",
              "25%    ...  3.380000e+02  4.000000e+00  1.000000e+01  0.000000e+00   \n",
              "50%    ...  6.060000e+02  6.000000e+00  1.400000e+01  0.000000e+00   \n",
              "75%    ...  9.980000e+02  8.000000e+00  2.100000e+01  0.000000e+00   \n",
              "max    ...  4.962000e+03  2.400000e+02  4.220000e+02  1.000000e+00   \n",
              "\n",
              "           Diverted  CarrierDelay  WeatherDelay      NASDelay  SecurityDelay  \\\n",
              "count  1.936758e+06  1.247488e+06  1.247488e+06  1.247488e+06   1.247488e+06   \n",
              "mean   4.003598e-03  1.917940e+01  3.703571e+00  1.502164e+01   9.013714e-02   \n",
              "std    6.314722e-02  4.354621e+01  2.149290e+01  3.383305e+01   2.022714e+00   \n",
              "min    0.000000e+00  0.000000e+00  0.000000e+00  0.000000e+00   0.000000e+00   \n",
              "25%    0.000000e+00  0.000000e+00  0.000000e+00  0.000000e+00   0.000000e+00   \n",
              "50%    0.000000e+00  2.000000e+00  0.000000e+00  2.000000e+00   0.000000e+00   \n",
              "75%    0.000000e+00  2.100000e+01  0.000000e+00  1.500000e+01   0.000000e+00   \n",
              "max    1.000000e+00  2.436000e+03  1.352000e+03  1.357000e+03   3.920000e+02   \n",
              "\n",
              "       LateAircraftDelay  \n",
              "count       1.247488e+06  \n",
              "mean        2.529647e+01  \n",
              "std         4.205486e+01  \n",
              "min         0.000000e+00  \n",
              "25%         0.000000e+00  \n",
              "50%         8.000000e+00  \n",
              "75%         3.300000e+01  \n",
              "max         1.316000e+03  \n",
              "\n",
              "[8 rows x 25 columns]"
            ],
            "text/html": [
              "\n",
              "  <div id=\"df-17877367-a072-48aa-bf27-3a52172bcafe\" class=\"colab-df-container\">\n",
              "    <div>\n",
              "<style scoped>\n",
              "    .dataframe tbody tr th:only-of-type {\n",
              "        vertical-align: middle;\n",
              "    }\n",
              "\n",
              "    .dataframe tbody tr th {\n",
              "        vertical-align: top;\n",
              "    }\n",
              "\n",
              "    .dataframe thead th {\n",
              "        text-align: right;\n",
              "    }\n",
              "</style>\n",
              "<table border=\"1\" class=\"dataframe\">\n",
              "  <thead>\n",
              "    <tr style=\"text-align: right;\">\n",
              "      <th></th>\n",
              "      <th>Unnamed: 0</th>\n",
              "      <th>Year</th>\n",
              "      <th>Month</th>\n",
              "      <th>DayofMonth</th>\n",
              "      <th>DayOfWeek</th>\n",
              "      <th>DepTime</th>\n",
              "      <th>CRSDepTime</th>\n",
              "      <th>ArrTime</th>\n",
              "      <th>CRSArrTime</th>\n",
              "      <th>FlightNum</th>\n",
              "      <th>...</th>\n",
              "      <th>Distance</th>\n",
              "      <th>TaxiIn</th>\n",
              "      <th>TaxiOut</th>\n",
              "      <th>Cancelled</th>\n",
              "      <th>Diverted</th>\n",
              "      <th>CarrierDelay</th>\n",
              "      <th>WeatherDelay</th>\n",
              "      <th>NASDelay</th>\n",
              "      <th>SecurityDelay</th>\n",
              "      <th>LateAircraftDelay</th>\n",
              "    </tr>\n",
              "  </thead>\n",
              "  <tbody>\n",
              "    <tr>\n",
              "      <th>count</th>\n",
              "      <td>1.936758e+06</td>\n",
              "      <td>1936758.0</td>\n",
              "      <td>1.936758e+06</td>\n",
              "      <td>1.936758e+06</td>\n",
              "      <td>1.936758e+06</td>\n",
              "      <td>1.936758e+06</td>\n",
              "      <td>1.936758e+06</td>\n",
              "      <td>1.929648e+06</td>\n",
              "      <td>1.936758e+06</td>\n",
              "      <td>1.936758e+06</td>\n",
              "      <td>...</td>\n",
              "      <td>1.936758e+06</td>\n",
              "      <td>1.929648e+06</td>\n",
              "      <td>1.936303e+06</td>\n",
              "      <td>1.936758e+06</td>\n",
              "      <td>1.936758e+06</td>\n",
              "      <td>1.247488e+06</td>\n",
              "      <td>1.247488e+06</td>\n",
              "      <td>1.247488e+06</td>\n",
              "      <td>1.247488e+06</td>\n",
              "      <td>1.247488e+06</td>\n",
              "    </tr>\n",
              "    <tr>\n",
              "      <th>mean</th>\n",
              "      <td>3.341651e+06</td>\n",
              "      <td>2008.0</td>\n",
              "      <td>6.111106e+00</td>\n",
              "      <td>1.575347e+01</td>\n",
              "      <td>3.984827e+00</td>\n",
              "      <td>1.518534e+03</td>\n",
              "      <td>1.467473e+03</td>\n",
              "      <td>1.610141e+03</td>\n",
              "      <td>1.634225e+03</td>\n",
              "      <td>2.184263e+03</td>\n",
              "      <td>...</td>\n",
              "      <td>7.656862e+02</td>\n",
              "      <td>6.812975e+00</td>\n",
              "      <td>1.823220e+01</td>\n",
              "      <td>3.268348e-04</td>\n",
              "      <td>4.003598e-03</td>\n",
              "      <td>1.917940e+01</td>\n",
              "      <td>3.703571e+00</td>\n",
              "      <td>1.502164e+01</td>\n",
              "      <td>9.013714e-02</td>\n",
              "      <td>2.529647e+01</td>\n",
              "    </tr>\n",
              "    <tr>\n",
              "      <th>std</th>\n",
              "      <td>2.066065e+06</td>\n",
              "      <td>0.0</td>\n",
              "      <td>3.482546e+00</td>\n",
              "      <td>8.776272e+00</td>\n",
              "      <td>1.995966e+00</td>\n",
              "      <td>4.504853e+02</td>\n",
              "      <td>4.247668e+02</td>\n",
              "      <td>5.481781e+02</td>\n",
              "      <td>4.646347e+02</td>\n",
              "      <td>1.944702e+03</td>\n",
              "      <td>...</td>\n",
              "      <td>5.744797e+02</td>\n",
              "      <td>5.273595e+00</td>\n",
              "      <td>1.433853e+01</td>\n",
              "      <td>1.807562e-02</td>\n",
              "      <td>6.314722e-02</td>\n",
              "      <td>4.354621e+01</td>\n",
              "      <td>2.149290e+01</td>\n",
              "      <td>3.383305e+01</td>\n",
              "      <td>2.022714e+00</td>\n",
              "      <td>4.205486e+01</td>\n",
              "    </tr>\n",
              "    <tr>\n",
              "      <th>min</th>\n",
              "      <td>0.000000e+00</td>\n",
              "      <td>2008.0</td>\n",
              "      <td>1.000000e+00</td>\n",
              "      <td>1.000000e+00</td>\n",
              "      <td>1.000000e+00</td>\n",
              "      <td>1.000000e+00</td>\n",
              "      <td>0.000000e+00</td>\n",
              "      <td>1.000000e+00</td>\n",
              "      <td>0.000000e+00</td>\n",
              "      <td>1.000000e+00</td>\n",
              "      <td>...</td>\n",
              "      <td>1.100000e+01</td>\n",
              "      <td>0.000000e+00</td>\n",
              "      <td>0.000000e+00</td>\n",
              "      <td>0.000000e+00</td>\n",
              "      <td>0.000000e+00</td>\n",
              "      <td>0.000000e+00</td>\n",
              "      <td>0.000000e+00</td>\n",
              "      <td>0.000000e+00</td>\n",
              "      <td>0.000000e+00</td>\n",
              "      <td>0.000000e+00</td>\n",
              "    </tr>\n",
              "    <tr>\n",
              "      <th>25%</th>\n",
              "      <td>1.517452e+06</td>\n",
              "      <td>2008.0</td>\n",
              "      <td>3.000000e+00</td>\n",
              "      <td>8.000000e+00</td>\n",
              "      <td>2.000000e+00</td>\n",
              "      <td>1.203000e+03</td>\n",
              "      <td>1.135000e+03</td>\n",
              "      <td>1.316000e+03</td>\n",
              "      <td>1.325000e+03</td>\n",
              "      <td>6.100000e+02</td>\n",
              "      <td>...</td>\n",
              "      <td>3.380000e+02</td>\n",
              "      <td>4.000000e+00</td>\n",
              "      <td>1.000000e+01</td>\n",
              "      <td>0.000000e+00</td>\n",
              "      <td>0.000000e+00</td>\n",
              "      <td>0.000000e+00</td>\n",
              "      <td>0.000000e+00</td>\n",
              "      <td>0.000000e+00</td>\n",
              "      <td>0.000000e+00</td>\n",
              "      <td>0.000000e+00</td>\n",
              "    </tr>\n",
              "    <tr>\n",
              "      <th>50%</th>\n",
              "      <td>3.242558e+06</td>\n",
              "      <td>2008.0</td>\n",
              "      <td>6.000000e+00</td>\n",
              "      <td>1.600000e+01</td>\n",
              "      <td>4.000000e+00</td>\n",
              "      <td>1.545000e+03</td>\n",
              "      <td>1.510000e+03</td>\n",
              "      <td>1.715000e+03</td>\n",
              "      <td>1.705000e+03</td>\n",
              "      <td>1.543000e+03</td>\n",
              "      <td>...</td>\n",
              "      <td>6.060000e+02</td>\n",
              "      <td>6.000000e+00</td>\n",
              "      <td>1.400000e+01</td>\n",
              "      <td>0.000000e+00</td>\n",
              "      <td>0.000000e+00</td>\n",
              "      <td>2.000000e+00</td>\n",
              "      <td>0.000000e+00</td>\n",
              "      <td>2.000000e+00</td>\n",
              "      <td>0.000000e+00</td>\n",
              "      <td>8.000000e+00</td>\n",
              "    </tr>\n",
              "    <tr>\n",
              "      <th>75%</th>\n",
              "      <td>4.972467e+06</td>\n",
              "      <td>2008.0</td>\n",
              "      <td>9.000000e+00</td>\n",
              "      <td>2.300000e+01</td>\n",
              "      <td>6.000000e+00</td>\n",
              "      <td>1.900000e+03</td>\n",
              "      <td>1.815000e+03</td>\n",
              "      <td>2.030000e+03</td>\n",
              "      <td>2.014000e+03</td>\n",
              "      <td>3.422000e+03</td>\n",
              "      <td>...</td>\n",
              "      <td>9.980000e+02</td>\n",
              "      <td>8.000000e+00</td>\n",
              "      <td>2.100000e+01</td>\n",
              "      <td>0.000000e+00</td>\n",
              "      <td>0.000000e+00</td>\n",
              "      <td>2.100000e+01</td>\n",
              "      <td>0.000000e+00</td>\n",
              "      <td>1.500000e+01</td>\n",
              "      <td>0.000000e+00</td>\n",
              "      <td>3.300000e+01</td>\n",
              "    </tr>\n",
              "    <tr>\n",
              "      <th>max</th>\n",
              "      <td>7.009727e+06</td>\n",
              "      <td>2008.0</td>\n",
              "      <td>1.200000e+01</td>\n",
              "      <td>3.100000e+01</td>\n",
              "      <td>7.000000e+00</td>\n",
              "      <td>2.400000e+03</td>\n",
              "      <td>2.359000e+03</td>\n",
              "      <td>2.400000e+03</td>\n",
              "      <td>2.400000e+03</td>\n",
              "      <td>9.742000e+03</td>\n",
              "      <td>...</td>\n",
              "      <td>4.962000e+03</td>\n",
              "      <td>2.400000e+02</td>\n",
              "      <td>4.220000e+02</td>\n",
              "      <td>1.000000e+00</td>\n",
              "      <td>1.000000e+00</td>\n",
              "      <td>2.436000e+03</td>\n",
              "      <td>1.352000e+03</td>\n",
              "      <td>1.357000e+03</td>\n",
              "      <td>3.920000e+02</td>\n",
              "      <td>1.316000e+03</td>\n",
              "    </tr>\n",
              "  </tbody>\n",
              "</table>\n",
              "<p>8 rows × 25 columns</p>\n",
              "</div>\n",
              "    <div class=\"colab-df-buttons\">\n",
              "\n",
              "  <div class=\"colab-df-container\">\n",
              "    <button class=\"colab-df-convert\" onclick=\"convertToInteractive('df-17877367-a072-48aa-bf27-3a52172bcafe')\"\n",
              "            title=\"Convert this dataframe to an interactive table.\"\n",
              "            style=\"display:none;\">\n",
              "\n",
              "  <svg xmlns=\"http://www.w3.org/2000/svg\" height=\"24px\" viewBox=\"0 -960 960 960\">\n",
              "    <path d=\"M120-120v-720h720v720H120Zm60-500h600v-160H180v160Zm220 220h160v-160H400v160Zm0 220h160v-160H400v160ZM180-400h160v-160H180v160Zm440 0h160v-160H620v160ZM180-180h160v-160H180v160Zm440 0h160v-160H620v160Z\"/>\n",
              "  </svg>\n",
              "    </button>\n",
              "\n",
              "  <style>\n",
              "    .colab-df-container {\n",
              "      display:flex;\n",
              "      gap: 12px;\n",
              "    }\n",
              "\n",
              "    .colab-df-convert {\n",
              "      background-color: #E8F0FE;\n",
              "      border: none;\n",
              "      border-radius: 50%;\n",
              "      cursor: pointer;\n",
              "      display: none;\n",
              "      fill: #1967D2;\n",
              "      height: 32px;\n",
              "      padding: 0 0 0 0;\n",
              "      width: 32px;\n",
              "    }\n",
              "\n",
              "    .colab-df-convert:hover {\n",
              "      background-color: #E2EBFA;\n",
              "      box-shadow: 0px 1px 2px rgba(60, 64, 67, 0.3), 0px 1px 3px 1px rgba(60, 64, 67, 0.15);\n",
              "      fill: #174EA6;\n",
              "    }\n",
              "\n",
              "    .colab-df-buttons div {\n",
              "      margin-bottom: 4px;\n",
              "    }\n",
              "\n",
              "    [theme=dark] .colab-df-convert {\n",
              "      background-color: #3B4455;\n",
              "      fill: #D2E3FC;\n",
              "    }\n",
              "\n",
              "    [theme=dark] .colab-df-convert:hover {\n",
              "      background-color: #434B5C;\n",
              "      box-shadow: 0px 1px 3px 1px rgba(0, 0, 0, 0.15);\n",
              "      filter: drop-shadow(0px 1px 2px rgba(0, 0, 0, 0.3));\n",
              "      fill: #FFFFFF;\n",
              "    }\n",
              "  </style>\n",
              "\n",
              "    <script>\n",
              "      const buttonEl =\n",
              "        document.querySelector('#df-17877367-a072-48aa-bf27-3a52172bcafe button.colab-df-convert');\n",
              "      buttonEl.style.display =\n",
              "        google.colab.kernel.accessAllowed ? 'block' : 'none';\n",
              "\n",
              "      async function convertToInteractive(key) {\n",
              "        const element = document.querySelector('#df-17877367-a072-48aa-bf27-3a52172bcafe');\n",
              "        const dataTable =\n",
              "          await google.colab.kernel.invokeFunction('convertToInteractive',\n",
              "                                                    [key], {});\n",
              "        if (!dataTable) return;\n",
              "\n",
              "        const docLinkHtml = 'Like what you see? Visit the ' +\n",
              "          '<a target=\"_blank\" href=https://colab.research.google.com/notebooks/data_table.ipynb>data table notebook</a>'\n",
              "          + ' to learn more about interactive tables.';\n",
              "        element.innerHTML = '';\n",
              "        dataTable['output_type'] = 'display_data';\n",
              "        await google.colab.output.renderOutput(dataTable, element);\n",
              "        const docLink = document.createElement('div');\n",
              "        docLink.innerHTML = docLinkHtml;\n",
              "        element.appendChild(docLink);\n",
              "      }\n",
              "    </script>\n",
              "  </div>\n",
              "\n",
              "\n",
              "<div id=\"df-7def8037-c419-4760-bb31-1c51deb52594\">\n",
              "  <button class=\"colab-df-quickchart\" onclick=\"quickchart('df-7def8037-c419-4760-bb31-1c51deb52594')\"\n",
              "            title=\"Suggest charts\"\n",
              "            style=\"display:none;\">\n",
              "\n",
              "<svg xmlns=\"http://www.w3.org/2000/svg\" height=\"24px\"viewBox=\"0 0 24 24\"\n",
              "     width=\"24px\">\n",
              "    <g>\n",
              "        <path d=\"M19 3H5c-1.1 0-2 .9-2 2v14c0 1.1.9 2 2 2h14c1.1 0 2-.9 2-2V5c0-1.1-.9-2-2-2zM9 17H7v-7h2v7zm4 0h-2V7h2v10zm4 0h-2v-4h2v4z\"/>\n",
              "    </g>\n",
              "</svg>\n",
              "  </button>\n",
              "\n",
              "<style>\n",
              "  .colab-df-quickchart {\n",
              "      --bg-color: #E8F0FE;\n",
              "      --fill-color: #1967D2;\n",
              "      --hover-bg-color: #E2EBFA;\n",
              "      --hover-fill-color: #174EA6;\n",
              "      --disabled-fill-color: #AAA;\n",
              "      --disabled-bg-color: #DDD;\n",
              "  }\n",
              "\n",
              "  [theme=dark] .colab-df-quickchart {\n",
              "      --bg-color: #3B4455;\n",
              "      --fill-color: #D2E3FC;\n",
              "      --hover-bg-color: #434B5C;\n",
              "      --hover-fill-color: #FFFFFF;\n",
              "      --disabled-bg-color: #3B4455;\n",
              "      --disabled-fill-color: #666;\n",
              "  }\n",
              "\n",
              "  .colab-df-quickchart {\n",
              "    background-color: var(--bg-color);\n",
              "    border: none;\n",
              "    border-radius: 50%;\n",
              "    cursor: pointer;\n",
              "    display: none;\n",
              "    fill: var(--fill-color);\n",
              "    height: 32px;\n",
              "    padding: 0;\n",
              "    width: 32px;\n",
              "  }\n",
              "\n",
              "  .colab-df-quickchart:hover {\n",
              "    background-color: var(--hover-bg-color);\n",
              "    box-shadow: 0 1px 2px rgba(60, 64, 67, 0.3), 0 1px 3px 1px rgba(60, 64, 67, 0.15);\n",
              "    fill: var(--button-hover-fill-color);\n",
              "  }\n",
              "\n",
              "  .colab-df-quickchart-complete:disabled,\n",
              "  .colab-df-quickchart-complete:disabled:hover {\n",
              "    background-color: var(--disabled-bg-color);\n",
              "    fill: var(--disabled-fill-color);\n",
              "    box-shadow: none;\n",
              "  }\n",
              "\n",
              "  .colab-df-spinner {\n",
              "    border: 2px solid var(--fill-color);\n",
              "    border-color: transparent;\n",
              "    border-bottom-color: var(--fill-color);\n",
              "    animation:\n",
              "      spin 1s steps(1) infinite;\n",
              "  }\n",
              "\n",
              "  @keyframes spin {\n",
              "    0% {\n",
              "      border-color: transparent;\n",
              "      border-bottom-color: var(--fill-color);\n",
              "      border-left-color: var(--fill-color);\n",
              "    }\n",
              "    20% {\n",
              "      border-color: transparent;\n",
              "      border-left-color: var(--fill-color);\n",
              "      border-top-color: var(--fill-color);\n",
              "    }\n",
              "    30% {\n",
              "      border-color: transparent;\n",
              "      border-left-color: var(--fill-color);\n",
              "      border-top-color: var(--fill-color);\n",
              "      border-right-color: var(--fill-color);\n",
              "    }\n",
              "    40% {\n",
              "      border-color: transparent;\n",
              "      border-right-color: var(--fill-color);\n",
              "      border-top-color: var(--fill-color);\n",
              "    }\n",
              "    60% {\n",
              "      border-color: transparent;\n",
              "      border-right-color: var(--fill-color);\n",
              "    }\n",
              "    80% {\n",
              "      border-color: transparent;\n",
              "      border-right-color: var(--fill-color);\n",
              "      border-bottom-color: var(--fill-color);\n",
              "    }\n",
              "    90% {\n",
              "      border-color: transparent;\n",
              "      border-bottom-color: var(--fill-color);\n",
              "    }\n",
              "  }\n",
              "</style>\n",
              "\n",
              "  <script>\n",
              "    async function quickchart(key) {\n",
              "      const quickchartButtonEl =\n",
              "        document.querySelector('#' + key + ' button');\n",
              "      quickchartButtonEl.disabled = true;  // To prevent multiple clicks.\n",
              "      quickchartButtonEl.classList.add('colab-df-spinner');\n",
              "      try {\n",
              "        const charts = await google.colab.kernel.invokeFunction(\n",
              "            'suggestCharts', [key], {});\n",
              "      } catch (error) {\n",
              "        console.error('Error during call to suggestCharts:', error);\n",
              "      }\n",
              "      quickchartButtonEl.classList.remove('colab-df-spinner');\n",
              "      quickchartButtonEl.classList.add('colab-df-quickchart-complete');\n",
              "    }\n",
              "    (() => {\n",
              "      let quickchartButtonEl =\n",
              "        document.querySelector('#df-7def8037-c419-4760-bb31-1c51deb52594 button');\n",
              "      quickchartButtonEl.style.display =\n",
              "        google.colab.kernel.accessAllowed ? 'block' : 'none';\n",
              "    })();\n",
              "  </script>\n",
              "</div>\n",
              "\n",
              "    </div>\n",
              "  </div>\n"
            ]
          },
          "metadata": {},
          "execution_count": 7
        }
      ],
      "source": [
        "df_delays.describe()"
      ]
    },
    {
      "cell_type": "code",
      "source": [
        "df_delays.isnull().sum()\n"
      ],
      "metadata": {
        "colab": {
          "base_uri": "https://localhost:8080/"
        },
        "id": "-YinzQ1EeBdS",
        "outputId": "38aba498-ea30-47b0-f02c-2367081d1d4d"
      },
      "execution_count": 8,
      "outputs": [
        {
          "output_type": "execute_result",
          "data": {
            "text/plain": [
              "Unnamed: 0                0\n",
              "Year                      0\n",
              "Month                     0\n",
              "DayofMonth                0\n",
              "DayOfWeek                 0\n",
              "DepTime                   0\n",
              "CRSDepTime                0\n",
              "ArrTime                7110\n",
              "CRSArrTime                0\n",
              "UniqueCarrier             0\n",
              "FlightNum                 0\n",
              "TailNum                   5\n",
              "ActualElapsedTime      8387\n",
              "CRSElapsedTime          198\n",
              "AirTime                8387\n",
              "ArrDelay               8387\n",
              "DepDelay                  0\n",
              "Origin                    0\n",
              "Dest                      0\n",
              "Distance                  0\n",
              "TaxiIn                 7110\n",
              "TaxiOut                 455\n",
              "Cancelled                 0\n",
              "CancellationCode          0\n",
              "Diverted                  0\n",
              "CarrierDelay         689270\n",
              "WeatherDelay         689270\n",
              "NASDelay             689270\n",
              "SecurityDelay        689270\n",
              "LateAircraftDelay    689270\n",
              "dtype: int64"
            ]
          },
          "metadata": {},
          "execution_count": 8
        }
      ]
    },
    {
      "cell_type": "code",
      "source": [
        "#what percent of data is null for WeatherDelay (our target)\n",
        "(df_delays['WeatherDelay'].isnull().sum() / len(df_delays)) * 100"
      ],
      "metadata": {
        "colab": {
          "base_uri": "https://localhost:8080/"
        },
        "id": "W8Lqd9OSemU8",
        "outputId": "93ca380d-b9c2-479e-8e8a-9152483c127a"
      },
      "execution_count": 9,
      "outputs": [
        {
          "output_type": "execute_result",
          "data": {
            "text/plain": [
              "35.588855189961784"
            ]
          },
          "metadata": {},
          "execution_count": 9
        }
      ]
    },
    {
      "cell_type": "code",
      "source": [
        "#That is a big amount of data missing\n",
        "df_delays['WeatherDelay']"
      ],
      "metadata": {
        "colab": {
          "base_uri": "https://localhost:8080/"
        },
        "id": "9cmlbDU1fCEV",
        "outputId": "b0914662-f831-4057-ee0e-eae390e9144b"
      },
      "execution_count": 10,
      "outputs": [
        {
          "output_type": "execute_result",
          "data": {
            "text/plain": [
              "0           NaN\n",
              "1           NaN\n",
              "2           NaN\n",
              "3           0.0\n",
              "4           NaN\n",
              "           ... \n",
              "1936753     0.0\n",
              "1936754    57.0\n",
              "1936755     0.0\n",
              "1936756     NaN\n",
              "1936757     NaN\n",
              "Name: WeatherDelay, Length: 1936758, dtype: float64"
            ]
          },
          "metadata": {},
          "execution_count": 10
        }
      ]
    },
    {
      "cell_type": "code",
      "source": [
        "df_delays['WeatherDelay'].max()"
      ],
      "metadata": {
        "colab": {
          "base_uri": "https://localhost:8080/"
        },
        "id": "VrmDdlk8g-dP",
        "outputId": "56691766-c78d-497b-b1d6-a25f43e34da2"
      },
      "execution_count": 11,
      "outputs": [
        {
          "output_type": "execute_result",
          "data": {
            "text/plain": [
              "1352.0"
            ]
          },
          "metadata": {},
          "execution_count": 11
        }
      ]
    },
    {
      "cell_type": "code",
      "source": [
        "df_delays['WeatherDelay'].min()"
      ],
      "metadata": {
        "colab": {
          "base_uri": "https://localhost:8080/"
        },
        "id": "yiSASKkwhVd5",
        "outputId": "d6c2ddd5-279f-4938-f57e-8738d7ccfebf"
      },
      "execution_count": 12,
      "outputs": [
        {
          "output_type": "execute_result",
          "data": {
            "text/plain": [
              "0.0"
            ]
          },
          "metadata": {},
          "execution_count": 12
        }
      ]
    },
    {
      "cell_type": "markdown",
      "source": [
        "Realistically we only care for a Binary Classification (True or False) if there was a weather delay so lets modify the data Weather Delay or Not Weather Delay\n"
      ],
      "metadata": {
        "id": "T4cdQUlfhaYu"
      }
    },
    {
      "cell_type": "code",
      "source": [
        "dates = df_delays['Year'].astype(str) + '-' + df_delays['Month'].astype(str) + '-' + df_delays['DayofMonth'].astype(str) + '-' + df_delays['DayOfWeek'].astype(str)\n"
      ],
      "metadata": {
        "id": "YRTMvn-RhWUY"
      },
      "execution_count": 13,
      "outputs": []
    },
    {
      "cell_type": "code",
      "source": [
        "df_delays['Date'] = dates\n",
        "df_delays = df_delays.drop(['Year', 'Month', 'DayofMonth', 'DayOfWeek'], axis=1)\n",
        "df_delays\n"
      ],
      "metadata": {
        "colab": {
          "base_uri": "https://localhost:8080/",
          "height": 721
        },
        "id": "bsCvtwU0jgM1",
        "outputId": "c9e55446-7f63-463c-c757-cbe8bb35daf2"
      },
      "execution_count": 14,
      "outputs": [
        {
          "output_type": "execute_result",
          "data": {
            "text/plain": [
              "         Unnamed: 0  DepTime  CRSDepTime  ArrTime  CRSArrTime UniqueCarrier  \\\n",
              "0                 0   2003.0        1955   2211.0        2225            WN   \n",
              "1                 1    754.0         735   1002.0        1000            WN   \n",
              "2                 2    628.0         620    804.0         750            WN   \n",
              "3                 4   1829.0        1755   1959.0        1925            WN   \n",
              "4                 5   1940.0        1915   2121.0        2110            WN   \n",
              "...             ...      ...         ...      ...         ...           ...   \n",
              "1936753     7009710   1250.0        1220   1617.0        1552            DL   \n",
              "1936754     7009717    657.0         600    904.0         749            DL   \n",
              "1936755     7009718   1007.0         847   1149.0        1010            DL   \n",
              "1936756     7009726   1251.0        1240   1446.0        1437            DL   \n",
              "1936757     7009727   1110.0        1103   1413.0        1418            DL   \n",
              "\n",
              "         FlightNum TailNum  ActualElapsedTime  CRSElapsedTime  ...  TaxiOut  \\\n",
              "0              335  N712SW              128.0           150.0  ...      8.0   \n",
              "1             3231  N772SW              128.0           145.0  ...     10.0   \n",
              "2              448  N428WN               96.0            90.0  ...     17.0   \n",
              "3             3920  N464WN               90.0            90.0  ...     10.0   \n",
              "4              378  N726SW              101.0           115.0  ...     10.0   \n",
              "...            ...     ...                ...             ...  ...      ...   \n",
              "1936753       1621  N938DL              147.0           152.0  ...     18.0   \n",
              "1936754       1631  N3743H              127.0           109.0  ...     34.0   \n",
              "1936755       1631  N909DA              162.0           143.0  ...     32.0   \n",
              "1936756       1639  N646DL              115.0           117.0  ...     13.0   \n",
              "1936757       1641  N908DL              123.0           135.0  ...     11.0   \n",
              "\n",
              "         Cancelled  CancellationCode Diverted CarrierDelay  WeatherDelay  \\\n",
              "0                0                 N        0          NaN           NaN   \n",
              "1                0                 N        0          NaN           NaN   \n",
              "2                0                 N        0          NaN           NaN   \n",
              "3                0                 N        0          2.0           0.0   \n",
              "4                0                 N        0          NaN           NaN   \n",
              "...            ...               ...      ...          ...           ...   \n",
              "1936753          0                 N        0          3.0           0.0   \n",
              "1936754          0                 N        0          0.0          57.0   \n",
              "1936755          0                 N        0          1.0           0.0   \n",
              "1936756          0                 N        0          NaN           NaN   \n",
              "1936757          0                 N        0          NaN           NaN   \n",
              "\n",
              "         NASDelay  SecurityDelay  LateAircraftDelay          Date  \n",
              "0             NaN            NaN                NaN    2008-1-3-4  \n",
              "1             NaN            NaN                NaN    2008-1-3-4  \n",
              "2             NaN            NaN                NaN    2008-1-3-4  \n",
              "3             0.0            0.0               32.0    2008-1-3-4  \n",
              "4             NaN            NaN                NaN    2008-1-3-4  \n",
              "...           ...            ...                ...           ...  \n",
              "1936753       0.0            0.0               22.0  2008-12-13-6  \n",
              "1936754      18.0            0.0                0.0  2008-12-13-6  \n",
              "1936755      19.0            0.0               79.0  2008-12-13-6  \n",
              "1936756       NaN            NaN                NaN  2008-12-13-6  \n",
              "1936757       NaN            NaN                NaN  2008-12-13-6  \n",
              "\n",
              "[1936758 rows x 27 columns]"
            ],
            "text/html": [
              "\n",
              "  <div id=\"df-8586bbd0-a8e3-4577-9fd4-e7d34b0c93a8\" class=\"colab-df-container\">\n",
              "    <div>\n",
              "<style scoped>\n",
              "    .dataframe tbody tr th:only-of-type {\n",
              "        vertical-align: middle;\n",
              "    }\n",
              "\n",
              "    .dataframe tbody tr th {\n",
              "        vertical-align: top;\n",
              "    }\n",
              "\n",
              "    .dataframe thead th {\n",
              "        text-align: right;\n",
              "    }\n",
              "</style>\n",
              "<table border=\"1\" class=\"dataframe\">\n",
              "  <thead>\n",
              "    <tr style=\"text-align: right;\">\n",
              "      <th></th>\n",
              "      <th>Unnamed: 0</th>\n",
              "      <th>DepTime</th>\n",
              "      <th>CRSDepTime</th>\n",
              "      <th>ArrTime</th>\n",
              "      <th>CRSArrTime</th>\n",
              "      <th>UniqueCarrier</th>\n",
              "      <th>FlightNum</th>\n",
              "      <th>TailNum</th>\n",
              "      <th>ActualElapsedTime</th>\n",
              "      <th>CRSElapsedTime</th>\n",
              "      <th>...</th>\n",
              "      <th>TaxiOut</th>\n",
              "      <th>Cancelled</th>\n",
              "      <th>CancellationCode</th>\n",
              "      <th>Diverted</th>\n",
              "      <th>CarrierDelay</th>\n",
              "      <th>WeatherDelay</th>\n",
              "      <th>NASDelay</th>\n",
              "      <th>SecurityDelay</th>\n",
              "      <th>LateAircraftDelay</th>\n",
              "      <th>Date</th>\n",
              "    </tr>\n",
              "  </thead>\n",
              "  <tbody>\n",
              "    <tr>\n",
              "      <th>0</th>\n",
              "      <td>0</td>\n",
              "      <td>2003.0</td>\n",
              "      <td>1955</td>\n",
              "      <td>2211.0</td>\n",
              "      <td>2225</td>\n",
              "      <td>WN</td>\n",
              "      <td>335</td>\n",
              "      <td>N712SW</td>\n",
              "      <td>128.0</td>\n",
              "      <td>150.0</td>\n",
              "      <td>...</td>\n",
              "      <td>8.0</td>\n",
              "      <td>0</td>\n",
              "      <td>N</td>\n",
              "      <td>0</td>\n",
              "      <td>NaN</td>\n",
              "      <td>NaN</td>\n",
              "      <td>NaN</td>\n",
              "      <td>NaN</td>\n",
              "      <td>NaN</td>\n",
              "      <td>2008-1-3-4</td>\n",
              "    </tr>\n",
              "    <tr>\n",
              "      <th>1</th>\n",
              "      <td>1</td>\n",
              "      <td>754.0</td>\n",
              "      <td>735</td>\n",
              "      <td>1002.0</td>\n",
              "      <td>1000</td>\n",
              "      <td>WN</td>\n",
              "      <td>3231</td>\n",
              "      <td>N772SW</td>\n",
              "      <td>128.0</td>\n",
              "      <td>145.0</td>\n",
              "      <td>...</td>\n",
              "      <td>10.0</td>\n",
              "      <td>0</td>\n",
              "      <td>N</td>\n",
              "      <td>0</td>\n",
              "      <td>NaN</td>\n",
              "      <td>NaN</td>\n",
              "      <td>NaN</td>\n",
              "      <td>NaN</td>\n",
              "      <td>NaN</td>\n",
              "      <td>2008-1-3-4</td>\n",
              "    </tr>\n",
              "    <tr>\n",
              "      <th>2</th>\n",
              "      <td>2</td>\n",
              "      <td>628.0</td>\n",
              "      <td>620</td>\n",
              "      <td>804.0</td>\n",
              "      <td>750</td>\n",
              "      <td>WN</td>\n",
              "      <td>448</td>\n",
              "      <td>N428WN</td>\n",
              "      <td>96.0</td>\n",
              "      <td>90.0</td>\n",
              "      <td>...</td>\n",
              "      <td>17.0</td>\n",
              "      <td>0</td>\n",
              "      <td>N</td>\n",
              "      <td>0</td>\n",
              "      <td>NaN</td>\n",
              "      <td>NaN</td>\n",
              "      <td>NaN</td>\n",
              "      <td>NaN</td>\n",
              "      <td>NaN</td>\n",
              "      <td>2008-1-3-4</td>\n",
              "    </tr>\n",
              "    <tr>\n",
              "      <th>3</th>\n",
              "      <td>4</td>\n",
              "      <td>1829.0</td>\n",
              "      <td>1755</td>\n",
              "      <td>1959.0</td>\n",
              "      <td>1925</td>\n",
              "      <td>WN</td>\n",
              "      <td>3920</td>\n",
              "      <td>N464WN</td>\n",
              "      <td>90.0</td>\n",
              "      <td>90.0</td>\n",
              "      <td>...</td>\n",
              "      <td>10.0</td>\n",
              "      <td>0</td>\n",
              "      <td>N</td>\n",
              "      <td>0</td>\n",
              "      <td>2.0</td>\n",
              "      <td>0.0</td>\n",
              "      <td>0.0</td>\n",
              "      <td>0.0</td>\n",
              "      <td>32.0</td>\n",
              "      <td>2008-1-3-4</td>\n",
              "    </tr>\n",
              "    <tr>\n",
              "      <th>4</th>\n",
              "      <td>5</td>\n",
              "      <td>1940.0</td>\n",
              "      <td>1915</td>\n",
              "      <td>2121.0</td>\n",
              "      <td>2110</td>\n",
              "      <td>WN</td>\n",
              "      <td>378</td>\n",
              "      <td>N726SW</td>\n",
              "      <td>101.0</td>\n",
              "      <td>115.0</td>\n",
              "      <td>...</td>\n",
              "      <td>10.0</td>\n",
              "      <td>0</td>\n",
              "      <td>N</td>\n",
              "      <td>0</td>\n",
              "      <td>NaN</td>\n",
              "      <td>NaN</td>\n",
              "      <td>NaN</td>\n",
              "      <td>NaN</td>\n",
              "      <td>NaN</td>\n",
              "      <td>2008-1-3-4</td>\n",
              "    </tr>\n",
              "    <tr>\n",
              "      <th>...</th>\n",
              "      <td>...</td>\n",
              "      <td>...</td>\n",
              "      <td>...</td>\n",
              "      <td>...</td>\n",
              "      <td>...</td>\n",
              "      <td>...</td>\n",
              "      <td>...</td>\n",
              "      <td>...</td>\n",
              "      <td>...</td>\n",
              "      <td>...</td>\n",
              "      <td>...</td>\n",
              "      <td>...</td>\n",
              "      <td>...</td>\n",
              "      <td>...</td>\n",
              "      <td>...</td>\n",
              "      <td>...</td>\n",
              "      <td>...</td>\n",
              "      <td>...</td>\n",
              "      <td>...</td>\n",
              "      <td>...</td>\n",
              "      <td>...</td>\n",
              "    </tr>\n",
              "    <tr>\n",
              "      <th>1936753</th>\n",
              "      <td>7009710</td>\n",
              "      <td>1250.0</td>\n",
              "      <td>1220</td>\n",
              "      <td>1617.0</td>\n",
              "      <td>1552</td>\n",
              "      <td>DL</td>\n",
              "      <td>1621</td>\n",
              "      <td>N938DL</td>\n",
              "      <td>147.0</td>\n",
              "      <td>152.0</td>\n",
              "      <td>...</td>\n",
              "      <td>18.0</td>\n",
              "      <td>0</td>\n",
              "      <td>N</td>\n",
              "      <td>0</td>\n",
              "      <td>3.0</td>\n",
              "      <td>0.0</td>\n",
              "      <td>0.0</td>\n",
              "      <td>0.0</td>\n",
              "      <td>22.0</td>\n",
              "      <td>2008-12-13-6</td>\n",
              "    </tr>\n",
              "    <tr>\n",
              "      <th>1936754</th>\n",
              "      <td>7009717</td>\n",
              "      <td>657.0</td>\n",
              "      <td>600</td>\n",
              "      <td>904.0</td>\n",
              "      <td>749</td>\n",
              "      <td>DL</td>\n",
              "      <td>1631</td>\n",
              "      <td>N3743H</td>\n",
              "      <td>127.0</td>\n",
              "      <td>109.0</td>\n",
              "      <td>...</td>\n",
              "      <td>34.0</td>\n",
              "      <td>0</td>\n",
              "      <td>N</td>\n",
              "      <td>0</td>\n",
              "      <td>0.0</td>\n",
              "      <td>57.0</td>\n",
              "      <td>18.0</td>\n",
              "      <td>0.0</td>\n",
              "      <td>0.0</td>\n",
              "      <td>2008-12-13-6</td>\n",
              "    </tr>\n",
              "    <tr>\n",
              "      <th>1936755</th>\n",
              "      <td>7009718</td>\n",
              "      <td>1007.0</td>\n",
              "      <td>847</td>\n",
              "      <td>1149.0</td>\n",
              "      <td>1010</td>\n",
              "      <td>DL</td>\n",
              "      <td>1631</td>\n",
              "      <td>N909DA</td>\n",
              "      <td>162.0</td>\n",
              "      <td>143.0</td>\n",
              "      <td>...</td>\n",
              "      <td>32.0</td>\n",
              "      <td>0</td>\n",
              "      <td>N</td>\n",
              "      <td>0</td>\n",
              "      <td>1.0</td>\n",
              "      <td>0.0</td>\n",
              "      <td>19.0</td>\n",
              "      <td>0.0</td>\n",
              "      <td>79.0</td>\n",
              "      <td>2008-12-13-6</td>\n",
              "    </tr>\n",
              "    <tr>\n",
              "      <th>1936756</th>\n",
              "      <td>7009726</td>\n",
              "      <td>1251.0</td>\n",
              "      <td>1240</td>\n",
              "      <td>1446.0</td>\n",
              "      <td>1437</td>\n",
              "      <td>DL</td>\n",
              "      <td>1639</td>\n",
              "      <td>N646DL</td>\n",
              "      <td>115.0</td>\n",
              "      <td>117.0</td>\n",
              "      <td>...</td>\n",
              "      <td>13.0</td>\n",
              "      <td>0</td>\n",
              "      <td>N</td>\n",
              "      <td>0</td>\n",
              "      <td>NaN</td>\n",
              "      <td>NaN</td>\n",
              "      <td>NaN</td>\n",
              "      <td>NaN</td>\n",
              "      <td>NaN</td>\n",
              "      <td>2008-12-13-6</td>\n",
              "    </tr>\n",
              "    <tr>\n",
              "      <th>1936757</th>\n",
              "      <td>7009727</td>\n",
              "      <td>1110.0</td>\n",
              "      <td>1103</td>\n",
              "      <td>1413.0</td>\n",
              "      <td>1418</td>\n",
              "      <td>DL</td>\n",
              "      <td>1641</td>\n",
              "      <td>N908DL</td>\n",
              "      <td>123.0</td>\n",
              "      <td>135.0</td>\n",
              "      <td>...</td>\n",
              "      <td>11.0</td>\n",
              "      <td>0</td>\n",
              "      <td>N</td>\n",
              "      <td>0</td>\n",
              "      <td>NaN</td>\n",
              "      <td>NaN</td>\n",
              "      <td>NaN</td>\n",
              "      <td>NaN</td>\n",
              "      <td>NaN</td>\n",
              "      <td>2008-12-13-6</td>\n",
              "    </tr>\n",
              "  </tbody>\n",
              "</table>\n",
              "<p>1936758 rows × 27 columns</p>\n",
              "</div>\n",
              "    <div class=\"colab-df-buttons\">\n",
              "\n",
              "  <div class=\"colab-df-container\">\n",
              "    <button class=\"colab-df-convert\" onclick=\"convertToInteractive('df-8586bbd0-a8e3-4577-9fd4-e7d34b0c93a8')\"\n",
              "            title=\"Convert this dataframe to an interactive table.\"\n",
              "            style=\"display:none;\">\n",
              "\n",
              "  <svg xmlns=\"http://www.w3.org/2000/svg\" height=\"24px\" viewBox=\"0 -960 960 960\">\n",
              "    <path d=\"M120-120v-720h720v720H120Zm60-500h600v-160H180v160Zm220 220h160v-160H400v160Zm0 220h160v-160H400v160ZM180-400h160v-160H180v160Zm440 0h160v-160H620v160ZM180-180h160v-160H180v160Zm440 0h160v-160H620v160Z\"/>\n",
              "  </svg>\n",
              "    </button>\n",
              "\n",
              "  <style>\n",
              "    .colab-df-container {\n",
              "      display:flex;\n",
              "      gap: 12px;\n",
              "    }\n",
              "\n",
              "    .colab-df-convert {\n",
              "      background-color: #E8F0FE;\n",
              "      border: none;\n",
              "      border-radius: 50%;\n",
              "      cursor: pointer;\n",
              "      display: none;\n",
              "      fill: #1967D2;\n",
              "      height: 32px;\n",
              "      padding: 0 0 0 0;\n",
              "      width: 32px;\n",
              "    }\n",
              "\n",
              "    .colab-df-convert:hover {\n",
              "      background-color: #E2EBFA;\n",
              "      box-shadow: 0px 1px 2px rgba(60, 64, 67, 0.3), 0px 1px 3px 1px rgba(60, 64, 67, 0.15);\n",
              "      fill: #174EA6;\n",
              "    }\n",
              "\n",
              "    .colab-df-buttons div {\n",
              "      margin-bottom: 4px;\n",
              "    }\n",
              "\n",
              "    [theme=dark] .colab-df-convert {\n",
              "      background-color: #3B4455;\n",
              "      fill: #D2E3FC;\n",
              "    }\n",
              "\n",
              "    [theme=dark] .colab-df-convert:hover {\n",
              "      background-color: #434B5C;\n",
              "      box-shadow: 0px 1px 3px 1px rgba(0, 0, 0, 0.15);\n",
              "      filter: drop-shadow(0px 1px 2px rgba(0, 0, 0, 0.3));\n",
              "      fill: #FFFFFF;\n",
              "    }\n",
              "  </style>\n",
              "\n",
              "    <script>\n",
              "      const buttonEl =\n",
              "        document.querySelector('#df-8586bbd0-a8e3-4577-9fd4-e7d34b0c93a8 button.colab-df-convert');\n",
              "      buttonEl.style.display =\n",
              "        google.colab.kernel.accessAllowed ? 'block' : 'none';\n",
              "\n",
              "      async function convertToInteractive(key) {\n",
              "        const element = document.querySelector('#df-8586bbd0-a8e3-4577-9fd4-e7d34b0c93a8');\n",
              "        const dataTable =\n",
              "          await google.colab.kernel.invokeFunction('convertToInteractive',\n",
              "                                                    [key], {});\n",
              "        if (!dataTable) return;\n",
              "\n",
              "        const docLinkHtml = 'Like what you see? Visit the ' +\n",
              "          '<a target=\"_blank\" href=https://colab.research.google.com/notebooks/data_table.ipynb>data table notebook</a>'\n",
              "          + ' to learn more about interactive tables.';\n",
              "        element.innerHTML = '';\n",
              "        dataTable['output_type'] = 'display_data';\n",
              "        await google.colab.output.renderOutput(dataTable, element);\n",
              "        const docLink = document.createElement('div');\n",
              "        docLink.innerHTML = docLinkHtml;\n",
              "        element.appendChild(docLink);\n",
              "      }\n",
              "    </script>\n",
              "  </div>\n",
              "\n",
              "\n",
              "<div id=\"df-dd7508f1-6927-4f4e-b424-90906366c620\">\n",
              "  <button class=\"colab-df-quickchart\" onclick=\"quickchart('df-dd7508f1-6927-4f4e-b424-90906366c620')\"\n",
              "            title=\"Suggest charts\"\n",
              "            style=\"display:none;\">\n",
              "\n",
              "<svg xmlns=\"http://www.w3.org/2000/svg\" height=\"24px\"viewBox=\"0 0 24 24\"\n",
              "     width=\"24px\">\n",
              "    <g>\n",
              "        <path d=\"M19 3H5c-1.1 0-2 .9-2 2v14c0 1.1.9 2 2 2h14c1.1 0 2-.9 2-2V5c0-1.1-.9-2-2-2zM9 17H7v-7h2v7zm4 0h-2V7h2v10zm4 0h-2v-4h2v4z\"/>\n",
              "    </g>\n",
              "</svg>\n",
              "  </button>\n",
              "\n",
              "<style>\n",
              "  .colab-df-quickchart {\n",
              "      --bg-color: #E8F0FE;\n",
              "      --fill-color: #1967D2;\n",
              "      --hover-bg-color: #E2EBFA;\n",
              "      --hover-fill-color: #174EA6;\n",
              "      --disabled-fill-color: #AAA;\n",
              "      --disabled-bg-color: #DDD;\n",
              "  }\n",
              "\n",
              "  [theme=dark] .colab-df-quickchart {\n",
              "      --bg-color: #3B4455;\n",
              "      --fill-color: #D2E3FC;\n",
              "      --hover-bg-color: #434B5C;\n",
              "      --hover-fill-color: #FFFFFF;\n",
              "      --disabled-bg-color: #3B4455;\n",
              "      --disabled-fill-color: #666;\n",
              "  }\n",
              "\n",
              "  .colab-df-quickchart {\n",
              "    background-color: var(--bg-color);\n",
              "    border: none;\n",
              "    border-radius: 50%;\n",
              "    cursor: pointer;\n",
              "    display: none;\n",
              "    fill: var(--fill-color);\n",
              "    height: 32px;\n",
              "    padding: 0;\n",
              "    width: 32px;\n",
              "  }\n",
              "\n",
              "  .colab-df-quickchart:hover {\n",
              "    background-color: var(--hover-bg-color);\n",
              "    box-shadow: 0 1px 2px rgba(60, 64, 67, 0.3), 0 1px 3px 1px rgba(60, 64, 67, 0.15);\n",
              "    fill: var(--button-hover-fill-color);\n",
              "  }\n",
              "\n",
              "  .colab-df-quickchart-complete:disabled,\n",
              "  .colab-df-quickchart-complete:disabled:hover {\n",
              "    background-color: var(--disabled-bg-color);\n",
              "    fill: var(--disabled-fill-color);\n",
              "    box-shadow: none;\n",
              "  }\n",
              "\n",
              "  .colab-df-spinner {\n",
              "    border: 2px solid var(--fill-color);\n",
              "    border-color: transparent;\n",
              "    border-bottom-color: var(--fill-color);\n",
              "    animation:\n",
              "      spin 1s steps(1) infinite;\n",
              "  }\n",
              "\n",
              "  @keyframes spin {\n",
              "    0% {\n",
              "      border-color: transparent;\n",
              "      border-bottom-color: var(--fill-color);\n",
              "      border-left-color: var(--fill-color);\n",
              "    }\n",
              "    20% {\n",
              "      border-color: transparent;\n",
              "      border-left-color: var(--fill-color);\n",
              "      border-top-color: var(--fill-color);\n",
              "    }\n",
              "    30% {\n",
              "      border-color: transparent;\n",
              "      border-left-color: var(--fill-color);\n",
              "      border-top-color: var(--fill-color);\n",
              "      border-right-color: var(--fill-color);\n",
              "    }\n",
              "    40% {\n",
              "      border-color: transparent;\n",
              "      border-right-color: var(--fill-color);\n",
              "      border-top-color: var(--fill-color);\n",
              "    }\n",
              "    60% {\n",
              "      border-color: transparent;\n",
              "      border-right-color: var(--fill-color);\n",
              "    }\n",
              "    80% {\n",
              "      border-color: transparent;\n",
              "      border-right-color: var(--fill-color);\n",
              "      border-bottom-color: var(--fill-color);\n",
              "    }\n",
              "    90% {\n",
              "      border-color: transparent;\n",
              "      border-bottom-color: var(--fill-color);\n",
              "    }\n",
              "  }\n",
              "</style>\n",
              "\n",
              "  <script>\n",
              "    async function quickchart(key) {\n",
              "      const quickchartButtonEl =\n",
              "        document.querySelector('#' + key + ' button');\n",
              "      quickchartButtonEl.disabled = true;  // To prevent multiple clicks.\n",
              "      quickchartButtonEl.classList.add('colab-df-spinner');\n",
              "      try {\n",
              "        const charts = await google.colab.kernel.invokeFunction(\n",
              "            'suggestCharts', [key], {});\n",
              "      } catch (error) {\n",
              "        console.error('Error during call to suggestCharts:', error);\n",
              "      }\n",
              "      quickchartButtonEl.classList.remove('colab-df-spinner');\n",
              "      quickchartButtonEl.classList.add('colab-df-quickchart-complete');\n",
              "    }\n",
              "    (() => {\n",
              "      let quickchartButtonEl =\n",
              "        document.querySelector('#df-dd7508f1-6927-4f4e-b424-90906366c620 button');\n",
              "      quickchartButtonEl.style.display =\n",
              "        google.colab.kernel.accessAllowed ? 'block' : 'none';\n",
              "    })();\n",
              "  </script>\n",
              "</div>\n",
              "\n",
              "  <div id=\"id_0884644a-7211-427f-bcf7-5d816e266dba\">\n",
              "    <style>\n",
              "      .colab-df-generate {\n",
              "        background-color: #E8F0FE;\n",
              "        border: none;\n",
              "        border-radius: 50%;\n",
              "        cursor: pointer;\n",
              "        display: none;\n",
              "        fill: #1967D2;\n",
              "        height: 32px;\n",
              "        padding: 0 0 0 0;\n",
              "        width: 32px;\n",
              "      }\n",
              "\n",
              "      .colab-df-generate:hover {\n",
              "        background-color: #E2EBFA;\n",
              "        box-shadow: 0px 1px 2px rgba(60, 64, 67, 0.3), 0px 1px 3px 1px rgba(60, 64, 67, 0.15);\n",
              "        fill: #174EA6;\n",
              "      }\n",
              "\n",
              "      [theme=dark] .colab-df-generate {\n",
              "        background-color: #3B4455;\n",
              "        fill: #D2E3FC;\n",
              "      }\n",
              "\n",
              "      [theme=dark] .colab-df-generate:hover {\n",
              "        background-color: #434B5C;\n",
              "        box-shadow: 0px 1px 3px 1px rgba(0, 0, 0, 0.15);\n",
              "        filter: drop-shadow(0px 1px 2px rgba(0, 0, 0, 0.3));\n",
              "        fill: #FFFFFF;\n",
              "      }\n",
              "    </style>\n",
              "    <button class=\"colab-df-generate\" onclick=\"generateWithVariable('df_delays')\"\n",
              "            title=\"Generate code using this dataframe.\"\n",
              "            style=\"display:none;\">\n",
              "\n",
              "  <svg xmlns=\"http://www.w3.org/2000/svg\" height=\"24px\"viewBox=\"0 0 24 24\"\n",
              "       width=\"24px\">\n",
              "    <path d=\"M7,19H8.4L18.45,9,17,7.55,7,17.6ZM5,21V16.75L18.45,3.32a2,2,0,0,1,2.83,0l1.4,1.43a1.91,1.91,0,0,1,.58,1.4,1.91,1.91,0,0,1-.58,1.4L9.25,21ZM18.45,9,17,7.55Zm-12,3A5.31,5.31,0,0,0,4.9,8.1,5.31,5.31,0,0,0,1,6.5,5.31,5.31,0,0,0,4.9,4.9,5.31,5.31,0,0,0,6.5,1,5.31,5.31,0,0,0,8.1,4.9,5.31,5.31,0,0,0,12,6.5,5.46,5.46,0,0,0,6.5,12Z\"/>\n",
              "  </svg>\n",
              "    </button>\n",
              "    <script>\n",
              "      (() => {\n",
              "      const buttonEl =\n",
              "        document.querySelector('#id_0884644a-7211-427f-bcf7-5d816e266dba button.colab-df-generate');\n",
              "      buttonEl.style.display =\n",
              "        google.colab.kernel.accessAllowed ? 'block' : 'none';\n",
              "\n",
              "      buttonEl.onclick = () => {\n",
              "        google.colab.notebook.generateWithVariable('df_delays');\n",
              "      }\n",
              "      })();\n",
              "    </script>\n",
              "  </div>\n",
              "\n",
              "    </div>\n",
              "  </div>\n"
            ]
          },
          "metadata": {},
          "execution_count": 14
        }
      ]
    },
    {
      "cell_type": "markdown",
      "source": [
        "Theres alot of delays within this DataSet that are not weather Delay, NASDelay, Security Delay, Airplane Delay, So we should inspect that"
      ],
      "metadata": {
        "id": "I7d1dGTXkBTO"
      }
    },
    {
      "cell_type": "code",
      "source": [
        "count_delays = (df_delays['WeatherDelay'] > 0) & ((df_delays['CarrierDelay'] > 0) | (df_delays['NASDelay'] > 0) | (df_delays['SecurityDelay'] > 0) | (df_delays['LateAircraftDelay'] > 0))\n",
        "(count_delays.sum()/len(df_delays['WeatherDelay'] > 0)) * 100"
      ],
      "metadata": {
        "colab": {
          "base_uri": "https://localhost:8080/"
        },
        "id": "BYVEojRkmDxV",
        "outputId": "6f0969ea-5db7-4caa-cf11-8b8946abc32a"
      },
      "execution_count": 15,
      "outputs": [
        {
          "output_type": "execute_result",
          "data": {
            "text/plain": [
              "4.001584090526539"
            ]
          },
          "metadata": {},
          "execution_count": 15
        }
      ]
    },
    {
      "cell_type": "markdown",
      "source": [
        "Essentially 4% of the Delays from Weather are accompanied with other delays of Security, Airplane and ect...\n"
      ],
      "metadata": {
        "id": "GX6FJQjKmveO"
      }
    },
    {
      "cell_type": "markdown",
      "source": [],
      "metadata": {
        "id": "YUB82jv5kBL-"
      }
    },
    {
      "cell_type": "code",
      "source": [
        "((df_delays['Cancelled'] > 0) & (df_delays['WeatherDelay'] > 0)).sum()\n"
      ],
      "metadata": {
        "colab": {
          "base_uri": "https://localhost:8080/"
        },
        "id": "csbmrNqqjiPM",
        "outputId": "6b5f74b8-4519-421e-edf0-26e5f0daed20"
      },
      "execution_count": 16,
      "outputs": [
        {
          "output_type": "execute_result",
          "data": {
            "text/plain": [
              "0"
            ]
          },
          "metadata": {},
          "execution_count": 16
        }
      ]
    },
    {
      "cell_type": "markdown",
      "source": [
        "Cancelled and Weather Delay are mutually Exclusive (never both True) so we can drop this feature"
      ],
      "metadata": {
        "id": "7p-tb8D6lph5"
      }
    },
    {
      "cell_type": "code",
      "source": [
        "df_delays = df_delays.drop(['Cancelled'],axis=1)"
      ],
      "metadata": {
        "id": "i-qBGeAYk5CV"
      },
      "execution_count": 17,
      "outputs": []
    },
    {
      "cell_type": "markdown",
      "source": [
        "### Lets Do Some EDA\n"
      ],
      "metadata": {
        "id": "K4um90AInTaR"
      }
    },
    {
      "cell_type": "code",
      "source": [
        "from scipy.stats import entropy\n",
        "\n",
        "import numpy as np"
      ],
      "metadata": {
        "id": "n8XWr-f9nX50"
      },
      "execution_count": 18,
      "outputs": []
    },
    {
      "cell_type": "code",
      "source": [
        "target_entropy = entropy(df_delays['WeatherDelay'].value_counts(normalize=True))\n"
      ],
      "metadata": {
        "id": "gbGq_4wKnqRC"
      },
      "execution_count": 19,
      "outputs": []
    },
    {
      "cell_type": "code",
      "source": [
        "target_entropy"
      ],
      "metadata": {
        "colab": {
          "base_uri": "https://localhost:8080/"
        },
        "id": "ndNSgd8LnxHg",
        "outputId": "420a4acd-f389-4c3c-e72a-0f2b3ca934eb"
      },
      "execution_count": 20,
      "outputs": [
        {
          "output_type": "execute_result",
          "data": {
            "text/plain": [
              "0.6558634950492173"
            ]
          },
          "metadata": {},
          "execution_count": 20
        }
      ]
    },
    {
      "cell_type": "markdown",
      "source": [
        "Within the context of Entropy 0, means we are absolutley certain while 1 means 100% random\n"
      ],
      "metadata": {
        "id": "O_q5ewUPnzu6"
      }
    },
    {
      "cell_type": "code",
      "source": [
        "def entropy(series):\n",
        "    # Calculate entropy of a given series\n",
        "    probabilities = series.value_counts(normalize=True)\n",
        "    return -np.sum(probabilities * np.log2(probabilities))\n",
        "\n",
        "def information_gain(df, target_column, feature_column):\n",
        "    total_entropy = entropy(df[target_column])\n",
        "    feature_grouped = df.groupby(feature_column)[target_column].apply(entropy)\n",
        "    weighted_entropy = np.sum(df[feature_column].value_counts(normalize=True) * feature_grouped)\n",
        "    return total_entropy - weighted_entropy\n",
        "\n",
        "def get_information_gain_of_all(df, target_column,columns):\n",
        "    information_gains = {}\n",
        "    for column in columns:\n",
        "      information_gains[column] = information_gain(df, target_column, column)\n",
        "      print(f'Col: {column} information gain {information_gains[column]}')\n",
        "    return information_gains"
      ],
      "metadata": {
        "id": "nPAmZILHpSxF"
      },
      "execution_count": 21,
      "outputs": []
    },
    {
      "cell_type": "code",
      "source": [
        "cols = df_delays.columns\n",
        "cols\n"
      ],
      "metadata": {
        "colab": {
          "base_uri": "https://localhost:8080/"
        },
        "id": "x_ZUtTfar-4Z",
        "outputId": "9f9c39fd-6046-4f78-80f1-656cd8b68089"
      },
      "execution_count": 22,
      "outputs": [
        {
          "output_type": "execute_result",
          "data": {
            "text/plain": [
              "Index(['Unnamed: 0', 'DepTime', 'CRSDepTime', 'ArrTime', 'CRSArrTime',\n",
              "       'UniqueCarrier', 'FlightNum', 'TailNum', 'ActualElapsedTime',\n",
              "       'CRSElapsedTime', 'AirTime', 'ArrDelay', 'DepDelay', 'Origin', 'Dest',\n",
              "       'Distance', 'TaxiIn', 'TaxiOut', 'CancellationCode', 'Diverted',\n",
              "       'CarrierDelay', 'WeatherDelay', 'NASDelay', 'SecurityDelay',\n",
              "       'LateAircraftDelay', 'Date'],\n",
              "      dtype='object')"
            ]
          },
          "metadata": {},
          "execution_count": 22
        }
      ]
    },
    {
      "cell_type": "code",
      "source": [
        "data = get_information_gain_of_all(df_delays,'WeatherDelay',['DepTime', 'CRSDepTime', 'ArrTime', 'CRSArrTime',\n",
        "       'UniqueCarrier', 'FlightNum', 'TailNum', 'ActualElapsedTime',\n",
        "       'CRSElapsedTime', 'AirTime', 'ArrDelay', 'DepDelay', 'Origin', 'Dest',\n",
        "       'Distance', 'TaxiIn', 'TaxiOut', 'CancellationCode', 'Diverted',\n",
        "       'CarrierDelay', 'WeatherDelay', 'NASDelay', 'SecurityDelay',\n",
        "       'LateAircraftDelay', 'Date'])"
      ],
      "metadata": {
        "colab": {
          "base_uri": "https://localhost:8080/"
        },
        "id": "buZ5gbsGneWX",
        "outputId": "27e4a072-a74b-465c-b38a-977f65e4f1b7"
      },
      "execution_count": 23,
      "outputs": [
        {
          "output_type": "stream",
          "name": "stdout",
          "text": [
            "Col: DepTime information gain 0.12756455987959503\n",
            "Col: CRSDepTime information gain 0.07273672481161031\n",
            "Col: ArrTime information gain 0.11909671705376346\n",
            "Col: CRSArrTime information gain 0.09505940674140156\n",
            "Col: UniqueCarrier information gain 0.0578112158330486\n",
            "Col: FlightNum information gain 0.2642085295017781\n",
            "Col: TailNum information gain 0.2500302204748911\n",
            "Col: ActualElapsedTime information gain 0.0513839755327864\n",
            "Col: CRSElapsedTime information gain 0.04469238474770021\n",
            "Col: AirTime information gain 0.04234803090378092\n",
            "Col: ArrDelay information gain 0.43666295004469335\n",
            "Col: DepDelay information gain 0.30147855557713754\n",
            "Col: Origin information gain 0.0686202396728195\n",
            "Col: Dest information gain 0.04654452992502589\n",
            "Col: Distance information gain 0.11988330463126162\n",
            "Col: TaxiIn information gain 0.012954274539991095\n",
            "Col: TaxiOut information gain 0.08658174253692785\n",
            "Col: CancellationCode information gain 0.0003092547290235448\n",
            "Col: Diverted information gain 0.003788248292020069\n",
            "Col: CarrierDelay information gain 0.0712934912051103\n",
            "Col: WeatherDelay information gain 0.9462110118076089\n",
            "Col: NASDelay information gain 0.023316599023738505\n",
            "Col: SecurityDelay information gain 0.0005944798512484972\n",
            "Col: LateAircraftDelay information gain 0.041899815695343956\n",
            "Col: Date information gain 0.10027513604331251\n"
          ]
        }
      ]
    },
    {
      "cell_type": "code",
      "source": [
        "dict_info = dict(sorted(data.items(),key=lambda item: item[1]))\n",
        "dict_info\n"
      ],
      "metadata": {
        "colab": {
          "base_uri": "https://localhost:8080/"
        },
        "id": "0_OLJ1NxqR7l",
        "outputId": "2ace430c-0cde-4b8c-b0c2-730451ace48d"
      },
      "execution_count": 24,
      "outputs": [
        {
          "output_type": "execute_result",
          "data": {
            "text/plain": [
              "{'CancellationCode': 0.0003092547290235448,\n",
              " 'SecurityDelay': 0.0005944798512484972,\n",
              " 'Diverted': 0.003788248292020069,\n",
              " 'TaxiIn': 0.012954274539991095,\n",
              " 'NASDelay': 0.023316599023738505,\n",
              " 'LateAircraftDelay': 0.041899815695343956,\n",
              " 'AirTime': 0.04234803090378092,\n",
              " 'CRSElapsedTime': 0.04469238474770021,\n",
              " 'Dest': 0.04654452992502589,\n",
              " 'ActualElapsedTime': 0.0513839755327864,\n",
              " 'UniqueCarrier': 0.0578112158330486,\n",
              " 'Origin': 0.0686202396728195,\n",
              " 'CarrierDelay': 0.0712934912051103,\n",
              " 'CRSDepTime': 0.07273672481161031,\n",
              " 'TaxiOut': 0.08658174253692785,\n",
              " 'CRSArrTime': 0.09505940674140156,\n",
              " 'Date': 0.10027513604331251,\n",
              " 'ArrTime': 0.11909671705376346,\n",
              " 'Distance': 0.11988330463126162,\n",
              " 'DepTime': 0.12756455987959503,\n",
              " 'TailNum': 0.2500302204748911,\n",
              " 'FlightNum': 0.2642085295017781,\n",
              " 'DepDelay': 0.30147855557713754,\n",
              " 'ArrDelay': 0.43666295004469335,\n",
              " 'WeatherDelay': 0.9462110118076089}"
            ]
          },
          "metadata": {},
          "execution_count": 24
        }
      ]
    },
    {
      "cell_type": "code",
      "source": [
        "features = list(dict_info.keys())\n",
        "values = list(dict_info.values())\n",
        "\n",
        "plt.figure(figsize=(10, 6))\n",
        "plt.barh(features, values, color='black')\n",
        "plt.xlabel('Information Gain')\n",
        "plt.title('Information Gain for Each Feature')\n",
        "plt.grid(axis='x', linestyle='--', alpha=0.6)\n",
        "plt.show()"
      ],
      "metadata": {
        "colab": {
          "base_uri": "https://localhost:8080/",
          "height": 564
        },
        "id": "FI7-Q1IevrOW",
        "outputId": "575c0684-d6ce-40e1-ae91-07dbda4a7177"
      },
      "execution_count": 26,
      "outputs": [
        {
          "output_type": "display_data",
          "data": {
            "text/plain": [
              "<Figure size 1000x600 with 1 Axes>"
            ],
            "image/png": "[encoded data removed]"
          },
          "metadata": {}
        }
      ]
    },
    {
      "cell_type": "markdown",
      "source": [
        "Let us Interperet the data from above, keep in my mind information gain is largely used for Decision Trees but the theory is apart of Information Theory such that we have valuable insights\n"
      ],
      "metadata": {
        "id": "8Y5ihIi21YEs"
      }
    },
    {
      "cell_type": "markdown",
      "source": [
        "Let us build a Correlation Matrix"
      ],
      "metadata": {
        "id": "bEc1MEjc822S"
      }
    },
    {
      "cell_type": "code",
      "source": [
        "correlation_matrix = df_delays.corr()\n",
        "\n",
        "# Plot the heatmap\n",
        "plt.figure(figsize=(25, 25))\n",
        "sns.heatmap(correlation_matrix, annot=True, cmap='coolwarm', linewidths=.5)\n",
        "plt.title('Correlation Matrix Heatmap')\n",
        "plt.show()"
      ],
      "metadata": {
        "colab": {
          "base_uri": "https://localhost:8080/",
          "height": 1000
        },
        "id": "FwicDGnp9hWT",
        "outputId": "54e86ad9-6e00-45da-9902-40253b172ef0"
      },
      "execution_count": 39,
      "outputs": [
        {
          "output_type": "stream",
          "name": "stderr",
          "text": [
            "<ipython-input-39-970d45753a5d>:1: FutureWarning: The default value of numeric_only in DataFrame.corr is deprecated. In a future version, it will default to False. Select only valid columns or specify the value of numeric_only to silence this warning.\n",
            "  correlation_matrix = df_delays.corr()\n"
          ]
        },
        {
          "output_type": "display_data",
          "data": {
            "text/plain": [
              "<Figure size 2500x2500 with 2 Axes>"
            ],
            "image/png": "[encoded data removed]"
          },
          "metadata": {}
        }
      ]
    },
    {
      "cell_type": "markdown",
      "source": [
        "We are Going to set our Correlation threshold is 0.8"
      ],
      "metadata": {
        "id": "3NPFy-jw_OJv"
      }
    },
    {
      "cell_type": "code",
      "source": [
        "correlation_threshold = 0.8\n",
        "def corr_matrix(correlation_matrix,correlation_threshold):\n",
        "  high_correlation_pairs = []\n",
        "  for i in range(len(correlation_matrix.columns)):\n",
        "      for j in range(i + 1, len(correlation_matrix.columns)):\n",
        "          if abs(correlation_matrix.iloc[i, j]) > correlation_threshold:\n",
        "              pair = (correlation_matrix.columns[i], correlation_matrix.columns[j])\n",
        "              high_correlation_pairs.append(pair)\n",
        "  return high_correlation_pairs\n",
        "high_correlation_pairs = corr_matrix(correlation_matrix=correlation_matrix,correlation_threshold=correlation_threshold)\n",
        "print(f\"Pairs with correlation above {correlation_threshold}:\")\n",
        "for pair in high_correlation_pairs:\n",
        "    print(pair)"
      ],
      "metadata": {
        "colab": {
          "base_uri": "https://localhost:8080/"
        },
        "id": "xNekM5PV-hKQ",
        "outputId": "6f917ae3-a383-4b78-c02f-587be12566ba"
      },
      "execution_count": 40,
      "outputs": [
        {
          "output_type": "stream",
          "name": "stdout",
          "text": [
            "Pairs with correlation above 0.8:\n",
            "('ActualElapsedTime', 'Distance')\n"
          ]
        }
      ]
    },
    {
      "cell_type": "markdown",
      "source": [
        "Let us interperet our data, DepTime and CRSDepTime, CRS time is when passengers must be checked in so there is a high correlation"
      ],
      "metadata": {
        "id": "mAb9-fqb_pnG"
      }
    },
    {
      "cell_type": "markdown",
      "source": [
        "Furthermore we see that Actual Elapsed Time is highly correlated with distance. Which logically makes sense more time spent in the air is highly correlated to distance."
      ],
      "metadata": {
        "id": "OSq2-nZtAR_u"
      }
    },
    {
      "cell_type": "code",
      "source": [
        "to_drop = ['CRSDepTime','CRSElapsedTime','CRSArrTime','AirTime','DepDelay','ActualElapsedTime']"
      ],
      "metadata": {
        "id": "wwmxGDfw_SLs"
      },
      "execution_count": 41,
      "outputs": []
    },
    {
      "cell_type": "markdown",
      "source": [
        "We should drop these attributes since it adds complexity to our eventual model and are redundant\n",
        "`"
      ],
      "metadata": {
        "id": "gDhG2535A6qS"
      }
    },
    {
      "cell_type": "code",
      "source": [
        "#df_delays = df_delays.drop(to_drop, axis=1)\n",
        "df_delays = df_delays.drop('CRSArrTime',axis=1)"
      ],
      "metadata": {
        "id": "3gCheq07BDHg"
      },
      "execution_count": 48,
      "outputs": []
    },
    {
      "cell_type": "code",
      "source": [
        "df_delays['CancellationCode'].unique()"
      ],
      "metadata": {
        "colab": {
          "base_uri": "https://localhost:8080/"
        },
        "id": "Q3-GPdABCVQj",
        "outputId": "13a143af-3b39-4c8f-db49-1004daac97c4"
      },
      "execution_count": 53,
      "outputs": [
        {
          "output_type": "execute_result",
          "data": {
            "text/plain": [
              "array(['N', 'A', 'B', 'C'], dtype=object)"
            ]
          },
          "metadata": {},
          "execution_count": 53
        }
      ]
    },
    {
      "cell_type": "code",
      "source": [
        "df_delays.head()"
      ],
      "metadata": {
        "colab": {
          "base_uri": "https://localhost:8080/",
          "height": 330
        },
        "id": "mUIE2PuZDu8H",
        "outputId": "25b6a830-34f1-460a-af4f-c9bf71bc5a55"
      },
      "execution_count": 54,
      "outputs": [
        {
          "output_type": "execute_result",
          "data": {
            "text/plain": [
              "   Unnamed: 0  DepTime  ArrTime UniqueCarrier  FlightNum TailNum  ArrDelay  \\\n",
              "0           0   2003.0   2211.0            WN        335  N712SW     -14.0   \n",
              "1           1    754.0   1002.0            WN       3231  N772SW       2.0   \n",
              "2           2    628.0    804.0            WN        448  N428WN      14.0   \n",
              "3           4   1829.0   1959.0            WN       3920  N464WN      34.0   \n",
              "4           5   1940.0   2121.0            WN        378  N726SW      11.0   \n",
              "\n",
              "  Origin Dest  Distance  TaxiIn  TaxiOut CancellationCode  Diverted  \\\n",
              "0    IAD  TPA       810     4.0      8.0                N         0   \n",
              "1    IAD  TPA       810     5.0     10.0                N         0   \n",
              "2    IND  BWI       515     3.0     17.0                N         0   \n",
              "3    IND  BWI       515     3.0     10.0                N         0   \n",
              "4    IND  JAX       688     4.0     10.0                N         0   \n",
              "\n",
              "   CarrierDelay  WeatherDelay  NASDelay  SecurityDelay  LateAircraftDelay  \\\n",
              "0           NaN           NaN       NaN            NaN                NaN   \n",
              "1           NaN           NaN       NaN            NaN                NaN   \n",
              "2           NaN           NaN       NaN            NaN                NaN   \n",
              "3           2.0           0.0       0.0            0.0               32.0   \n",
              "4           NaN           NaN       NaN            NaN                NaN   \n",
              "\n",
              "         Date  \n",
              "0  2008-1-3-4  \n",
              "1  2008-1-3-4  \n",
              "2  2008-1-3-4  \n",
              "3  2008-1-3-4  \n",
              "4  2008-1-3-4  "
            ],
            "text/html": [
              "\n",
              "  <div id=\"df-7e103389-3acf-4c5e-a303-dad266609028\" class=\"colab-df-container\">\n",
              "    <div>\n",
              "<style scoped>\n",
              "    .dataframe tbody tr th:only-of-type {\n",
              "        vertical-align: middle;\n",
              "    }\n",
              "\n",
              "    .dataframe tbody tr th {\n",
              "        vertical-align: top;\n",
              "    }\n",
              "\n",
              "    .dataframe thead th {\n",
              "        text-align: right;\n",
              "    }\n",
              "</style>\n",
              "<table border=\"1\" class=\"dataframe\">\n",
              "  <thead>\n",
              "    <tr style=\"text-align: right;\">\n",
              "      <th></th>\n",
              "      <th>Unnamed: 0</th>\n",
              "      <th>DepTime</th>\n",
              "      <th>ArrTime</th>\n",
              "      <th>UniqueCarrier</th>\n",
              "      <th>FlightNum</th>\n",
              "      <th>TailNum</th>\n",
              "      <th>ArrDelay</th>\n",
              "      <th>Origin</th>\n",
              "      <th>Dest</th>\n",
              "      <th>Distance</th>\n",
              "      <th>TaxiIn</th>\n",
              "      <th>TaxiOut</th>\n",
              "      <th>CancellationCode</th>\n",
              "      <th>Diverted</th>\n",
              "      <th>CarrierDelay</th>\n",
              "      <th>WeatherDelay</th>\n",
              "      <th>NASDelay</th>\n",
              "      <th>SecurityDelay</th>\n",
              "      <th>LateAircraftDelay</th>\n",
              "      <th>Date</th>\n",
              "    </tr>\n",
              "  </thead>\n",
              "  <tbody>\n",
              "    <tr>\n",
              "      <th>0</th>\n",
              "      <td>0</td>\n",
              "      <td>2003.0</td>\n",
              "      <td>2211.0</td>\n",
              "      <td>WN</td>\n",
              "      <td>335</td>\n",
              "      <td>N712SW</td>\n",
              "      <td>-14.0</td>\n",
              "      <td>IAD</td>\n",
              "      <td>TPA</td>\n",
              "      <td>810</td>\n",
              "      <td>4.0</td>\n",
              "      <td>8.0</td>\n",
              "      <td>N</td>\n",
              "      <td>0</td>\n",
              "      <td>NaN</td>\n",
              "      <td>NaN</td>\n",
              "      <td>NaN</td>\n",
              "      <td>NaN</td>\n",
              "      <td>NaN</td>\n",
              "      <td>2008-1-3-4</td>\n",
              "    </tr>\n",
              "    <tr>\n",
              "      <th>1</th>\n",
              "      <td>1</td>\n",
              "      <td>754.0</td>\n",
              "      <td>1002.0</td>\n",
              "      <td>WN</td>\n",
              "      <td>3231</td>\n",
              "      <td>N772SW</td>\n",
              "      <td>2.0</td>\n",
              "      <td>IAD</td>\n",
              "      <td>TPA</td>\n",
              "      <td>810</td>\n",
              "      <td>5.0</td>\n",
              "      <td>10.0</td>\n",
              "      <td>N</td>\n",
              "      <td>0</td>\n",
              "      <td>NaN</td>\n",
              "      <td>NaN</td>\n",
              "      <td>NaN</td>\n",
              "      <td>NaN</td>\n",
              "      <td>NaN</td>\n",
              "      <td>2008-1-3-4</td>\n",
              "    </tr>\n",
              "    <tr>\n",
              "      <th>2</th>\n",
              "      <td>2</td>\n",
              "      <td>628.0</td>\n",
              "      <td>804.0</td>\n",
              "      <td>WN</td>\n",
              "      <td>448</td>\n",
              "      <td>N428WN</td>\n",
              "      <td>14.0</td>\n",
              "      <td>IND</td>\n",
              "      <td>BWI</td>\n",
              "      <td>515</td>\n",
              "      <td>3.0</td>\n",
              "      <td>17.0</td>\n",
              "      <td>N</td>\n",
              "      <td>0</td>\n",
              "      <td>NaN</td>\n",
              "      <td>NaN</td>\n",
              "      <td>NaN</td>\n",
              "      <td>NaN</td>\n",
              "      <td>NaN</td>\n",
              "      <td>2008-1-3-4</td>\n",
              "    </tr>\n",
              "    <tr>\n",
              "      <th>3</th>\n",
              "      <td>4</td>\n",
              "      <td>1829.0</td>\n",
              "      <td>1959.0</td>\n",
              "      <td>WN</td>\n",
              "      <td>3920</td>\n",
              "      <td>N464WN</td>\n",
              "      <td>34.0</td>\n",
              "      <td>IND</td>\n",
              "      <td>BWI</td>\n",
              "      <td>515</td>\n",
              "      <td>3.0</td>\n",
              "      <td>10.0</td>\n",
              "      <td>N</td>\n",
              "      <td>0</td>\n",
              "      <td>2.0</td>\n",
              "      <td>0.0</td>\n",
              "      <td>0.0</td>\n",
              "      <td>0.0</td>\n",
              "      <td>32.0</td>\n",
              "      <td>2008-1-3-4</td>\n",
              "    </tr>\n",
              "    <tr>\n",
              "      <th>4</th>\n",
              "      <td>5</td>\n",
              "      <td>1940.0</td>\n",
              "      <td>2121.0</td>\n",
              "      <td>WN</td>\n",
              "      <td>378</td>\n",
              "      <td>N726SW</td>\n",
              "      <td>11.0</td>\n",
              "      <td>IND</td>\n",
              "      <td>JAX</td>\n",
              "      <td>688</td>\n",
              "      <td>4.0</td>\n",
              "      <td>10.0</td>\n",
              "      <td>N</td>\n",
              "      <td>0</td>\n",
              "      <td>NaN</td>\n",
              "      <td>NaN</td>\n",
              "      <td>NaN</td>\n",
              "      <td>NaN</td>\n",
              "      <td>NaN</td>\n",
              "      <td>2008-1-3-4</td>\n",
              "    </tr>\n",
              "  </tbody>\n",
              "</table>\n",
              "</div>\n",
              "    <div class=\"colab-df-buttons\">\n",
              "\n",
              "  <div class=\"colab-df-container\">\n",
              "    <button class=\"colab-df-convert\" onclick=\"convertToInteractive('df-7e103389-3acf-4c5e-a303-dad266609028')\"\n",
              "            title=\"Convert this dataframe to an interactive table.\"\n",
              "            style=\"display:none;\">\n",
              "\n",
              "  <svg xmlns=\"http://www.w3.org/2000/svg\" height=\"24px\" viewBox=\"0 -960 960 960\">\n",
              "    <path d=\"M120-120v-720h720v720H120Zm60-500h600v-160H180v160Zm220 220h160v-160H400v160Zm0 220h160v-160H400v160ZM180-400h160v-160H180v160Zm440 0h160v-160H620v160ZM180-180h160v-160H180v160Zm440 0h160v-160H620v160Z\"/>\n",
              "  </svg>\n",
              "    </button>\n",
              "\n",
              "  <style>\n",
              "    .colab-df-container {\n",
              "      display:flex;\n",
              "      gap: 12px;\n",
              "    }\n",
              "\n",
              "    .colab-df-convert {\n",
              "      background-color: #E8F0FE;\n",
              "      border: none;\n",
              "      border-radius: 50%;\n",
              "      cursor: pointer;\n",
              "      display: none;\n",
              "      fill: #1967D2;\n",
              "      height: 32px;\n",
              "      padding: 0 0 0 0;\n",
              "      width: 32px;\n",
              "    }\n",
              "\n",
              "    .colab-df-convert:hover {\n",
              "      background-color: #E2EBFA;\n",
              "      box-shadow: 0px 1px 2px rgba(60, 64, 67, 0.3), 0px 1px 3px 1px rgba(60, 64, 67, 0.15);\n",
              "      fill: #174EA6;\n",
              "    }\n",
              "\n",
              "    .colab-df-buttons div {\n",
              "      margin-bottom: 4px;\n",
              "    }\n",
              "\n",
              "    [theme=dark] .colab-df-convert {\n",
              "      background-color: #3B4455;\n",
              "      fill: #D2E3FC;\n",
              "    }\n",
              "\n",
              "    [theme=dark] .colab-df-convert:hover {\n",
              "      background-color: #434B5C;\n",
              "      box-shadow: 0px 1px 3px 1px rgba(0, 0, 0, 0.15);\n",
              "      filter: drop-shadow(0px 1px 2px rgba(0, 0, 0, 0.3));\n",
              "      fill: #FFFFFF;\n",
              "    }\n",
              "  </style>\n",
              "\n",
              "    <script>\n",
              "      const buttonEl =\n",
              "        document.querySelector('#df-7e103389-3acf-4c5e-a303-dad266609028 button.colab-df-convert');\n",
              "      buttonEl.style.display =\n",
              "        google.colab.kernel.accessAllowed ? 'block' : 'none';\n",
              "\n",
              "      async function convertToInteractive(key) {\n",
              "        const element = document.querySelector('#df-7e103389-3acf-4c5e-a303-dad266609028');\n",
              "        const dataTable =\n",
              "          await google.colab.kernel.invokeFunction('convertToInteractive',\n",
              "                                                    [key], {});\n",
              "        if (!dataTable) return;\n",
              "\n",
              "        const docLinkHtml = 'Like what you see? Visit the ' +\n",
              "          '<a target=\"_blank\" href=https://colab.research.google.com/notebooks/data_table.ipynb>data table notebook</a>'\n",
              "          + ' to learn more about interactive tables.';\n",
              "        element.innerHTML = '';\n",
              "        dataTable['output_type'] = 'display_data';\n",
              "        await google.colab.output.renderOutput(dataTable, element);\n",
              "        const docLink = document.createElement('div');\n",
              "        docLink.innerHTML = docLinkHtml;\n",
              "        element.appendChild(docLink);\n",
              "      }\n",
              "    </script>\n",
              "  </div>\n",
              "\n",
              "\n",
              "<div id=\"df-6f6ac0a0-1f2c-4184-a5a5-ee7e4e21b2ab\">\n",
              "  <button class=\"colab-df-quickchart\" onclick=\"quickchart('df-6f6ac0a0-1f2c-4184-a5a5-ee7e4e21b2ab')\"\n",
              "            title=\"Suggest charts\"\n",
              "            style=\"display:none;\">\n",
              "\n",
              "<svg xmlns=\"http://www.w3.org/2000/svg\" height=\"24px\"viewBox=\"0 0 24 24\"\n",
              "     width=\"24px\">\n",
              "    <g>\n",
              "        <path d=\"M19 3H5c-1.1 0-2 .9-2 2v14c0 1.1.9 2 2 2h14c1.1 0 2-.9 2-2V5c0-1.1-.9-2-2-2zM9 17H7v-7h2v7zm4 0h-2V7h2v10zm4 0h-2v-4h2v4z\"/>\n",
              "    </g>\n",
              "</svg>\n",
              "  </button>\n",
              "\n",
              "<style>\n",
              "  .colab-df-quickchart {\n",
              "      --bg-color: #E8F0FE;\n",
              "      --fill-color: #1967D2;\n",
              "      --hover-bg-color: #E2EBFA;\n",
              "      --hover-fill-color: #174EA6;\n",
              "      --disabled-fill-color: #AAA;\n",
              "      --disabled-bg-color: #DDD;\n",
              "  }\n",
              "\n",
              "  [theme=dark] .colab-df-quickchart {\n",
              "      --bg-color: #3B4455;\n",
              "      --fill-color: #D2E3FC;\n",
              "      --hover-bg-color: #434B5C;\n",
              "      --hover-fill-color: #FFFFFF;\n",
              "      --disabled-bg-color: #3B4455;\n",
              "      --disabled-fill-color: #666;\n",
              "  }\n",
              "\n",
              "  .colab-df-quickchart {\n",
              "    background-color: var(--bg-color);\n",
              "    border: none;\n",
              "    border-radius: 50%;\n",
              "    cursor: pointer;\n",
              "    display: none;\n",
              "    fill: var(--fill-color);\n",
              "    height: 32px;\n",
              "    padding: 0;\n",
              "    width: 32px;\n",
              "  }\n",
              "\n",
              "  .colab-df-quickchart:hover {\n",
              "    background-color: var(--hover-bg-color);\n",
              "    box-shadow: 0 1px 2px rgba(60, 64, 67, 0.3), 0 1px 3px 1px rgba(60, 64, 67, 0.15);\n",
              "    fill: var(--button-hover-fill-color);\n",
              "  }\n",
              "\n",
              "  .colab-df-quickchart-complete:disabled,\n",
              "  .colab-df-quickchart-complete:disabled:hover {\n",
              "    background-color: var(--disabled-bg-color);\n",
              "    fill: var(--disabled-fill-color);\n",
              "    box-shadow: none;\n",
              "  }\n",
              "\n",
              "  .colab-df-spinner {\n",
              "    border: 2px solid var(--fill-color);\n",
              "    border-color: transparent;\n",
              "    border-bottom-color: var(--fill-color);\n",
              "    animation:\n",
              "      spin 1s steps(1) infinite;\n",
              "  }\n",
              "\n",
              "  @keyframes spin {\n",
              "    0% {\n",
              "      border-color: transparent;\n",
              "      border-bottom-color: var(--fill-color);\n",
              "      border-left-color: var(--fill-color);\n",
              "    }\n",
              "    20% {\n",
              "      border-color: transparent;\n",
              "      border-left-color: var(--fill-color);\n",
              "      border-top-color: var(--fill-color);\n",
              "    }\n",
              "    30% {\n",
              "      border-color: transparent;\n",
              "      border-left-color: var(--fill-color);\n",
              "      border-top-color: var(--fill-color);\n",
              "      border-right-color: var(--fill-color);\n",
              "    }\n",
              "    40% {\n",
              "      border-color: transparent;\n",
              "      border-right-color: var(--fill-color);\n",
              "      border-top-color: var(--fill-color);\n",
              "    }\n",
              "    60% {\n",
              "      border-color: transparent;\n",
              "      border-right-color: var(--fill-color);\n",
              "    }\n",
              "    80% {\n",
              "      border-color: transparent;\n",
              "      border-right-color: var(--fill-color);\n",
              "      border-bottom-color: var(--fill-color);\n",
              "    }\n",
              "    90% {\n",
              "      border-color: transparent;\n",
              "      border-bottom-color: var(--fill-color);\n",
              "    }\n",
              "  }\n",
              "</style>\n",
              "\n",
              "  <script>\n",
              "    async function quickchart(key) {\n",
              "      const quickchartButtonEl =\n",
              "        document.querySelector('#' + key + ' button');\n",
              "      quickchartButtonEl.disabled = true;  // To prevent multiple clicks.\n",
              "      quickchartButtonEl.classList.add('colab-df-spinner');\n",
              "      try {\n",
              "        const charts = await google.colab.kernel.invokeFunction(\n",
              "            'suggestCharts', [key], {});\n",
              "      } catch (error) {\n",
              "        console.error('Error during call to suggestCharts:', error);\n",
              "      }\n",
              "      quickchartButtonEl.classList.remove('colab-df-spinner');\n",
              "      quickchartButtonEl.classList.add('colab-df-quickchart-complete');\n",
              "    }\n",
              "    (() => {\n",
              "      let quickchartButtonEl =\n",
              "        document.querySelector('#df-6f6ac0a0-1f2c-4184-a5a5-ee7e4e21b2ab button');\n",
              "      quickchartButtonEl.style.display =\n",
              "        google.colab.kernel.accessAllowed ? 'block' : 'none';\n",
              "    })();\n",
              "  </script>\n",
              "</div>\n",
              "\n",
              "    </div>\n",
              "  </div>\n"
            ]
          },
          "metadata": {},
          "execution_count": 54
        }
      ]
    },
    {
      "cell_type": "code",
      "source": [
        "df_delays['FlightNum'].unique()"
      ],
      "metadata": {
        "colab": {
          "base_uri": "https://localhost:8080/"
        },
        "id": "zpQ9f4S5DzWn",
        "outputId": "70cb1e15-b6b7-4f19-fa71-80987f9e8d7b"
      },
      "execution_count": 57,
      "outputs": [
        {
          "output_type": "execute_result",
          "data": {
            "text/plain": [
              "array([ 335, 3231,  448, ..., 6869, 6870, 5272])"
            ]
          },
          "metadata": {},
          "execution_count": 57
        }
      ]
    },
    {
      "cell_type": "markdown",
      "source": [
        "Certain Features seem unecessary, so we remove them"
      ],
      "metadata": {
        "id": "-zChXSvNDnMp"
      }
    },
    {
      "cell_type": "code",
      "source": [
        "unecessary_features = ['CancellationCode','FlightNum']\n",
        "df_delays = df_delays.drop(unecessary_features, axis=1)\n"
      ],
      "metadata": {
        "id": "4nlk5NoxCrkC"
      },
      "execution_count": 58,
      "outputs": []
    },
    {
      "cell_type": "code",
      "source": [
        "#Now lets do some imputation on NULL Values"
      ],
      "metadata": {
        "id": "XTFB3mUxEUek"
      },
      "execution_count": null,
      "outputs": []
    },
    {
      "cell_type": "code",
      "source": [
        "df_delays.isnull().sum()"
      ],
      "metadata": {
        "colab": {
          "base_uri": "https://localhost:8080/"
        },
        "id": "BEPQOpmYEZxZ",
        "outputId": "4b012604-deba-455b-e932-122a4bd73062"
      },
      "execution_count": 67,
      "outputs": [
        {
          "output_type": "execute_result",
          "data": {
            "text/plain": [
              "Unnamed: 0                0\n",
              "DepTime                   0\n",
              "ArrTime                   0\n",
              "UniqueCarrier             0\n",
              "TailNum                   0\n",
              "ArrDelay                  0\n",
              "Origin                    0\n",
              "Dest                      0\n",
              "Distance                  0\n",
              "TaxiIn                    0\n",
              "TaxiOut                   0\n",
              "Diverted                  0\n",
              "CarrierDelay         680882\n",
              "WeatherDelay         680882\n",
              "NASDelay             680882\n",
              "SecurityDelay        680882\n",
              "LateAircraftDelay    680882\n",
              "Date                      0\n",
              "dtype: int64"
            ]
          },
          "metadata": {},
          "execution_count": 67
        }
      ]
    },
    {
      "cell_type": "code",
      "source": [
        "df_delays = df_delays.dropna(subset=['TailNum','ArrTime','ArrDelay'])\n",
        "df_delays.isnull().sum()\n"
      ],
      "metadata": {
        "id": "Y9p0YEeaErDQ"
      },
      "execution_count": 66,
      "outputs": []
    },
    {
      "cell_type": "code",
      "source": [
        "df_delays['CarrierDelay'].isnull().sum()/len(df_delays)"
      ],
      "metadata": {
        "colab": {
          "base_uri": "https://localhost:8080/"
        },
        "id": "_agoAwEFGtkT",
        "outputId": "158593c5-4ae5-4596-80e5-94779dbff8dc"
      },
      "execution_count": 78,
      "outputs": [
        {
          "output_type": "execute_result",
          "data": {
            "text/plain": [
              "0.3530871700837185"
            ]
          },
          "metadata": {},
          "execution_count": 78
        }
      ]
    },
    {
      "cell_type": "markdown",
      "source": [
        "35% of Data is Null, if we use Mean we will inaccuratley interperet our data, so we will use Model Based Imputation Technique"
      ],
      "metadata": {
        "id": "hwnYWl3_HCbG"
      }
    },
    {
      "cell_type": "code",
      "source": [
        "df_delays['CarrierDelay'].describe()"
      ],
      "metadata": {
        "colab": {
          "base_uri": "https://localhost:8080/"
        },
        "id": "KsrIMHlvFKHb",
        "outputId": "2b9f63e4-1d98-454b-a8c6-84858be1c77d"
      },
      "execution_count": 70,
      "outputs": [
        {
          "output_type": "execute_result",
          "data": {
            "text/plain": [
              "count   1247486\n",
              "mean         19\n",
              "std          44\n",
              "min           0\n",
              "25%           0\n",
              "50%           2\n",
              "75%          21\n",
              "max        2436\n",
              "Name: CarrierDelay, dtype: float64"
            ]
          },
          "metadata": {},
          "execution_count": 70
        }
      ]
    },
    {
      "cell_type": "code",
      "source": [
        "col = df_delays.columns[df_delays.isnull().any()].tolist()\n",
        "col\n"
      ],
      "metadata": {
        "colab": {
          "base_uri": "https://localhost:8080/"
        },
        "id": "2e4xvVUVIQY9",
        "outputId": "f47ee25a-1391-478a-fba6-2dddddacd5cf"
      },
      "execution_count": 83,
      "outputs": [
        {
          "output_type": "execute_result",
          "data": {
            "text/plain": [
              "['CarrierDelay',\n",
              " 'WeatherDelay',\n",
              " 'NASDelay',\n",
              " 'SecurityDelay',\n",
              " 'LateAircraftDelay']"
            ]
          },
          "metadata": {},
          "execution_count": 83
        }
      ]
    },
    {
      "cell_type": "markdown",
      "source": [
        "We are using Model Based Imputation Technique"
      ],
      "metadata": {
        "id": "tKM0FIwiHqQd"
      }
    },
    {
      "cell_type": "code",
      "source": [
        "def model_imputation(df=df_delays,columns_with_missing_values=col):\n",
        "   # Separate the DataFrame into two parts: one with missing values and one without\n",
        "    for column in columns_with_missing_values:\n",
        "      df_missing = df[df[column].isnull()]\n",
        "      df_not_missing = df.dropna(subset=[column])\n",
        "\n",
        "      # Identify categorical columns for one-hot encoding\n",
        "      categorical_columns = df_not_missing.select_dtypes(include=['object']).columns\n",
        "\n",
        "      # One-hot encode categorical columns\n",
        "      df_not_missing_encoded = pd.get_dummies(df_not_missing, columns=categorical_columns, drop_first=True)\n",
        "\n",
        "      # Split the data into features (X) and target variable (y) for training\n",
        "      X_train = df_not_missing_encoded.drop([column], axis=1)\n",
        "      y_train = df_not_missing_encoded[column]\n",
        "\n",
        "      # Train a linear regression model\n",
        "      model = LinearRegression()\n",
        "      model.fit(X_train, y_train)\n",
        "\n",
        "      # One-hot encode missing data\n",
        "      df_missing_encoded = pd.get_dummies(df_missing, columns=categorical_columns, drop_first=True)\n",
        "\n",
        "      # Predict missing values using the trained model\n",
        "      X_missing = df_missing_encoded.drop([column], axis=1)\n",
        "      predicted_values = model.predict(X_missing)\n",
        "\n",
        "      # Replace missing values with predicted values\n",
        "      df.loc[df[column].isnull(), column] = predicted_values\n",
        "\n",
        "    return df"
      ],
      "metadata": {
        "colab": {
          "base_uri": "https://localhost:8080/",
          "height": 250
        },
        "id": "9R4n6eLoIcb-",
        "outputId": "4fa52397-7d53-4dff-da85-8d7c90b87e56"
      },
      "execution_count": 1,
      "outputs": [
        {
          "output_type": "error",
          "ename": "NameError",
          "evalue": "ignored",
          "traceback": [
            "\u001b[0;31m---------------------------------------------------------------------------\u001b[0m",
            "\u001b[0;31mNameError\u001b[0m                                 Traceback (most recent call last)",
            "\u001b[0;32m<ipython-input-1-0d6becdeb9e3>\u001b[0m in \u001b[0;36m<cell line: 1>\u001b[0;34m()\u001b[0m\n\u001b[0;32m----> 1\u001b[0;31m \u001b[0;32mdef\u001b[0m \u001b[0mmodel_imputation\u001b[0m\u001b[0;34m(\u001b[0m\u001b[0mdf\u001b[0m\u001b[0;34m=\u001b[0m\u001b[0mdf_delays\u001b[0m\u001b[0;34m,\u001b[0m\u001b[0mcolumns_with_missing_values\u001b[0m\u001b[0;34m=\u001b[0m\u001b[0mcol\u001b[0m\u001b[0;34m)\u001b[0m\u001b[0;34m:\u001b[0m\u001b[0;34m\u001b[0m\u001b[0;34m\u001b[0m\u001b[0m\n\u001b[0m\u001b[1;32m      2\u001b[0m    \u001b[0;31m# Separate the DataFrame into two parts: one with missing values and one without\u001b[0m\u001b[0;34m\u001b[0m\u001b[0;34m\u001b[0m\u001b[0m\n\u001b[1;32m      3\u001b[0m     \u001b[0;32mfor\u001b[0m \u001b[0mcolumn\u001b[0m \u001b[0;32min\u001b[0m \u001b[0mcolumns_with_missing_values\u001b[0m\u001b[0;34m:\u001b[0m\u001b[0;34m\u001b[0m\u001b[0;34m\u001b[0m\u001b[0m\n\u001b[1;32m      4\u001b[0m       \u001b[0mdf_missing\u001b[0m \u001b[0;34m=\u001b[0m \u001b[0mdf\u001b[0m\u001b[0;34m[\u001b[0m\u001b[0mdf\u001b[0m\u001b[0;34m[\u001b[0m\u001b[0mcolumn\u001b[0m\u001b[0;34m]\u001b[0m\u001b[0;34m.\u001b[0m\u001b[0misnull\u001b[0m\u001b[0;34m(\u001b[0m\u001b[0;34m)\u001b[0m\u001b[0;34m]\u001b[0m\u001b[0;34m\u001b[0m\u001b[0;34m\u001b[0m\u001b[0m\n\u001b[1;32m      5\u001b[0m       \u001b[0mdf_not_missing\u001b[0m \u001b[0;34m=\u001b[0m \u001b[0mdf\u001b[0m\u001b[0;34m.\u001b[0m\u001b[0mdropna\u001b[0m\u001b[0;34m(\u001b[0m\u001b[0msubset\u001b[0m\u001b[0;34m=\u001b[0m\u001b[0;34m[\u001b[0m\u001b[0mcolumn\u001b[0m\u001b[0;34m]\u001b[0m\u001b[0;34m)\u001b[0m\u001b[0;34m\u001b[0m\u001b[0;34m\u001b[0m\u001b[0m\n",
            "\u001b[0;31mNameError\u001b[0m: name 'df_delays' is not defined"
          ]
        }
      ]
    },
    {
      "cell_type": "code",
      "source": [
        "new_df_after_model = model_imputation(df_delays,col)"
      ],
      "metadata": {
        "id": "BpVoQbWfJA5l"
      },
      "execution_count": null,
      "outputs": []
    },
    {
      "cell_type": "code",
      "source": [
        "X = df.dropna(subset=['your_column']).drop('your_column', axis=1)\n",
        "y = df.dropna(subset=['your_column'])['your_column']\n",
        "\n",
        "model = LinearRegression()\n",
        "model.fit(X, y)\n",
        "\n",
        "df.loc[df['your_column'].isnull(), 'your_column'] = model.predict(df.drop('your_column', axis=1))"
      ],
      "metadata": {
        "id": "YZ4mLo4fGQv_"
      },
      "execution_count": null,
      "outputs": []
    }
  ],
  "metadata": {
    "kernelspec": {
      "display_name": "Python 3.12.0 64-bit",
      "language": "python",
      "name": "python3"
    },
    "language_info": {
      "codemirror_mode": {
        "name": "ipython",
        "version": 3
      },
      "file_extension": ".py",
      "mimetype": "text/x-python",
      "name": "python",
      "nbconvert_exporter": "python",
      "pygments_lexer": "ipython3",
      "version": "3.12.0"
    },
    "orig_nbformat": 4,
    "vscode": {
      "interpreter": {
        "hash": "f1062708a37074d70712b695aadee582e0b0b9f95f45576b5521424137d05fec"
      }
    },
    "colab": {
      "provenance": [],
      "include_colab_link": true
    }
  },
  "nbformat": 4,
  "nbformat_minor": 0
}